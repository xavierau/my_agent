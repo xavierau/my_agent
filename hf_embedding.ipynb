{
 "cells": [
  {
   "cell_type": "code",
   "execution_count": 8,
   "id": "initial_id",
   "metadata": {
    "collapsed": true,
    "ExecuteTime": {
     "end_time": "2023-11-09T08:24:28.140038Z",
     "start_time": "2023-11-09T08:24:28.137685Z"
    }
   },
   "outputs": [],
   "source": [
    "from transformers import AutoModel\n",
    "from sentence_transformers import SentenceTransformer\n",
    "from sentence_transformers.util import cos_sim\n"
   ]
  },
  {
   "cell_type": "code",
   "execution_count": 5,
   "outputs": [],
   "source": [
    "model = SentenceTransformer(\"thenlper/gte-large\")"
   ],
   "metadata": {
    "collapsed": false,
    "ExecuteTime": {
     "end_time": "2023-11-09T08:22:37.104997Z",
     "start_time": "2023-11-09T08:22:35.551630Z"
    }
   },
   "id": "f249446184c0927c"
  },
  {
   "cell_type": "code",
   "execution_count": 6,
   "outputs": [],
   "source": [
    "query_embedding = model.encode('How big is London')"
   ],
   "metadata": {
    "collapsed": false,
    "ExecuteTime": {
     "end_time": "2023-11-09T08:22:37.295185Z",
     "start_time": "2023-11-09T08:22:37.107412Z"
    }
   },
   "id": "9735f5706bce2b74"
  },
  {
   "cell_type": "code",
   "execution_count": 9,
   "outputs": [
    {
     "name": "stdout",
     "output_type": "stream",
     "text": [
      "tensor([[0.9812]])\n"
     ]
    }
   ],
   "source": [
    "sentences = ['That is a happy person', 'That is a very happy person']\n",
    "embeddings = model.encode(sentences)\n",
    "print(cos_sim(embeddings[0], embeddings[1]))"
   ],
   "metadata": {
    "collapsed": false,
    "ExecuteTime": {
     "end_time": "2023-11-09T08:24:30.718397Z",
     "start_time": "2023-11-09T08:24:29.604949Z"
    }
   },
   "id": "c2e0361cbef3fa76"
  }
 ],
 "metadata": {
  "kernelspec": {
   "display_name": "Python 3",
   "language": "python",
   "name": "python3"
  },
  "language_info": {
   "codemirror_mode": {
    "name": "ipython",
    "version": 2
   },
   "file_extension": ".py",
   "mimetype": "text/x-python",
   "name": "python",
   "nbconvert_exporter": "python",
   "pygments_lexer": "ipython2",
   "version": "2.7.6"
  }
 },
 "nbformat": 4,
 "nbformat_minor": 5
}
