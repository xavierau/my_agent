{
 "cells": [
  {
   "cell_type": "code",
   "execution_count": 1,
   "id": "initial_id",
   "metadata": {
    "collapsed": true,
    "ExecuteTime": {
     "end_time": "2023-11-20T04:12:22.776988Z",
     "start_time": "2023-11-20T04:12:22.420909Z"
    }
   },
   "outputs": [
    {
     "data": {
      "text/plain": "True"
     },
     "execution_count": 1,
     "metadata": {},
     "output_type": "execute_result"
    }
   ],
   "source": [
    "import json\n",
    "from datetime import datetime\n",
    "from openai import OpenAI\n",
    "from playsound import playsound\n",
    "from PIL import Image\n",
    "from urllib.parse import urlparse\n",
    "from urllib.request import urlopen\n",
    "from IPython.display import Image\n",
    "from IPython.core.display import HTML\n",
    "\n",
    "from os.path import exists\n",
    "import dotenv\n",
    "\n",
    "dotenv.load_dotenv()"
   ]
  },
  {
   "cell_type": "code",
   "execution_count": 2,
   "outputs": [],
   "source": [
    "client = OpenAI()"
   ],
   "metadata": {
    "collapsed": false,
    "ExecuteTime": {
     "end_time": "2023-11-20T04:12:22.792333Z",
     "start_time": "2023-11-20T04:12:22.777470Z"
    }
   },
   "id": "b821aaa0795bcc9"
  },
  {
   "cell_type": "code",
   "execution_count": 3,
   "outputs": [],
   "source": [
    "task = \"create a crm system for a small business\""
   ],
   "metadata": {
    "collapsed": false,
    "ExecuteTime": {
     "end_time": "2023-11-20T04:12:22.794750Z",
     "start_time": "2023-11-20T04:12:22.792825Z"
    }
   },
   "id": "89d9e0c34a3b3359"
  },
  {
   "cell_type": "code",
   "execution_count": 54,
   "outputs": [],
   "source": [
    "project_manager = {\n",
    "    \"name\": \"Project Manager\",\n",
    "    \"description\": \"You are a experienced project manager for custom software development.\",\n",
    "}\n",
    "\n",
    "customer = {\n",
    "    \"name\": \"Customer\",\n",
    "    \"description\": \"You are a owner of a small cafe. You have award a custom crm system project to the a company. You need to clarify you needs and requirements to the system analyst.\"\n",
    "}"
   ],
   "metadata": {
    "collapsed": false,
    "ExecuteTime": {
     "end_time": "2023-11-20T06:52:47.537133Z",
     "start_time": "2023-11-20T06:52:47.534276Z"
    }
   },
   "id": "1a8e71e106e35b8c"
  },
  {
   "cell_type": "code",
   "execution_count": 5,
   "outputs": [],
   "source": [
    "class Agent:\n",
    "    def __init__(self, config: dict):\n",
    "        self.config = config\n",
    "        self.messages = []\n",
    "\n",
    "    def send(self, message: str):\n",
    "        self.messages.append({\"role\": \"user\", \"content\": [{\"type\": \"text\", \"text\": message}]})\n",
    "        return self._send_to_llm()\n",
    "\n",
    "    def add_init_message(self, message: str):\n",
    "        self.messages.append({\"role\": \"assistant\", \"content\": message})\n",
    "\n",
    "    def _get_system_message(self):\n",
    "        return {\"role\": \"system\", \"content\": self.config.get(\"description\", \"You are a helpful AI assistant\")}\n",
    "\n",
    "    def _send_to_llm(self):\n",
    "        messages = [self._get_system_message()] + self.messages\n",
    "        response = client.chat.completions.create(\n",
    "            model=\"gpt-3.5-turbo-1106\",\n",
    "            messages=messages,\n",
    "        )\n",
    "        response_message = response.choices[0].message\n",
    "        self.messages.append({\"role\": \"assistant\", \"content\": response_message.content})\n",
    "\n",
    "        print(self.config.get('name', None), response_message.content + \"\\n\\n\")\n",
    "        return response_message.content"
   ],
   "metadata": {
    "collapsed": false,
    "ExecuteTime": {
     "end_time": "2023-11-20T04:12:22.814513Z",
     "start_time": "2023-11-20T04:12:22.800199Z"
    }
   },
   "id": "21cdc5ba6f55e775"
  },
  {
   "cell_type": "code",
   "execution_count": 57,
   "outputs": [],
   "source": [
    "pm_agent = Agent(project_manager)"
   ],
   "metadata": {
    "collapsed": false,
    "ExecuteTime": {
     "end_time": "2023-11-20T06:57:23.962364Z",
     "start_time": "2023-11-20T06:57:23.954382Z"
    }
   },
   "id": "8b68aeed91f5c5d2"
  },
  {
   "cell_type": "code",
   "execution_count": 58,
   "outputs": [
    {
     "name": "stdout",
     "output_type": "stream",
     "text": [
      "Project Manager The team structure for this project would be as follows:\n",
      "\n",
      "1. Project Manager (You) - Responsible for overall project coordination, stakeholder communication, planning, resource allocation, and risk management.\n",
      "\n",
      "2. Backend Developer 1 - Responsible for designing and developing the customer database with the specified fields, implementing the tracking of customer interactions, and developing the loyalty program management functionality.\n",
      "\n",
      "3. Backend Developer 2 - Can be assigned to work alongside Backend Developer 1 to support in the development of the database and other functionalities as needed.\n",
      "\n",
      "4. Quality Assurance (QA) Engineer - Responsible for testing the developed functionalities, ensuring functional and non-functional requirements are met, and identifying any defects or issues that need to be resolved.\n",
      "\n",
      "5. User Interface (UI)/User Experience (UX) Designer - Responsible for designing and creating the user interface for the backend functionalities, ensuring a user-friendly and intuitive experience for the loyalty program management.\n",
      "\n",
      "6. System Architect/Technical Lead - Provides technical guidance, architecture design, and support for the backend development team, ensuring the scalability, performance, and security of the developed solutions.\n",
      "\n",
      "7. Business Analyst - Works closely with the project manager and stakeholders to gather and document requirements, prioritize features, and ensure alignment with business goals.\n",
      "\n",
      "Depending on the complexity and size of the project, additional roles such as a database administrator, security expert, or additional developers may be required. The team will collaborate closely to ensure successful implementation of the specified functionalities within the project timeline and budget.\n"
     ]
    }
   ],
   "source": [
    "team_structure = pm_agent.send(\n",
    "    f\"Your company just being award for the project: '{task}'. How the team structure will be?\")"
   ],
   "metadata": {
    "collapsed": false,
    "ExecuteTime": {
     "end_time": "2023-11-20T06:57:28.769791Z",
     "start_time": "2023-11-20T06:57:24.418513Z"
    }
   },
   "id": "74e8fa859ed5928b"
  },
  {
   "cell_type": "code",
   "execution_count": 80,
   "outputs": [
    {
     "name": "stdout",
     "output_type": "stream",
     "text": [
      "Project Manager To complete the project, I would follow a well-structured project management process. Here's a high-level overview of the key stages and activities involved:\n",
      "\n",
      "1. Initiation:\n",
      "   - Define project objectives, scope, and success criteria with stakeholders.\n",
      "   - Identify project team members and their respective roles and responsibilities.\n",
      "   - Conduct a kickoff meeting to align the team and stakeholders on project goals, timelines, and deliverables.\n",
      "\n",
      "2. Planning:\n",
      "   - Create a detailed project plan outlining tasks, dependencies, resources, and timelines.\n",
      "   - Define the technical requirements for the customer database, customer interaction tracking, and loyalty program management.\n",
      "   - Identify and mitigate potential risks.\n",
      "   - Establish communication and reporting processes.\n",
      "\n",
      "3. Design:\n",
      "   - Work with the backend developer to create the database schema and design the structure for customer interactions and loyalty program management.\n",
      "   - Collaborate with the UI/UX designer to create wireframes and design mockups for the loyalty program management interface.\n",
      "\n",
      "4. Development:\n",
      "   - Implement the customer database with specified fields, ensuring data integrity and performance.\n",
      "   - Develop the tracking of customer interactions, including logging and categorization, following the established design.\n",
      "   - Implement the loyalty program management functionality, integrating it with the customer database and interaction tracking.\n",
      "\n",
      "5. Testing:\n",
      "   - Conduct comprehensive testing of the developed functionalities to ensure they meet the specified requirements and are free of defects.\n",
      "   - Perform user acceptance testing with stakeholders to validate the loyalty program management interface and functionality.\n",
      "\n",
      "6. Deployment:\n",
      "   - Plan and execute the deployment of the developed functionalities to the target environment, ensuring minimal disruption to existing systems.\n",
      "   - Carry out any necessary data migration or integration tasks.\n",
      "\n",
      "7. Monitoring and Maintenance:\n",
      "   - Establish monitoring processes to track the usage and performance of the developed functionalities.\n",
      "   - Address any post-deployment issues and continue to provide maintenance and support as needed.\n",
      "\n",
      "Throughout the project, I would also ensure open and transparent communication with stakeholders, regular progress updates, and proactive risk management to ensure the successful completion of the project. Adhering to this comprehensive process will help in delivering a high-quality solution that meets the project requirements.\n"
     ]
    }
   ],
   "source": [
    "process = pm_agent.send(f\"What is the process you will follow to complete the project?\")"
   ],
   "metadata": {
    "collapsed": false,
    "ExecuteTime": {
     "end_time": "2023-11-20T07:16:57.377216Z",
     "start_time": "2023-11-20T07:16:47.503059Z"
    }
   },
   "id": "ec28ef00775cd0ec"
  },
  {
   "cell_type": "code",
   "execution_count": 81,
   "outputs": [
    {
     "data": {
      "text/plain": "\"To complete the project, I would follow a well-structured project management process. Here's a high-level overview of the key stages and activities involved:\\n\\n1. Initiation:\\n   - Define project objectives, scope, and success criteria with stakeholders.\\n   - Identify project team members and their respective roles and responsibilities.\\n   - Conduct a kickoff meeting to align the team and stakeholders on project goals, timelines, and deliverables.\\n\\n2. Planning:\\n   - Create a detailed project plan outlining tasks, dependencies, resources, and timelines.\\n   - Define the technical requirements for the customer database, customer interaction tracking, and loyalty program management.\\n   - Identify and mitigate potential risks.\\n   - Establish communication and reporting processes.\\n\\n3. Design:\\n   - Work with the backend developer to create the database schema and design the structure for customer interactions and loyalty program management.\\n   - Collaborate with the UI/UX designer to create wireframes and design mockups for the loyalty program management interface.\\n\\n4. Development:\\n   - Implement the customer database with specified fields, ensuring data integrity and performance.\\n   - Develop the tracking of customer interactions, including logging and categorization, following the established design.\\n   - Implement the loyalty program management functionality, integrating it with the customer database and interaction tracking.\\n\\n5. Testing:\\n   - Conduct comprehensive testing of the developed functionalities to ensure they meet the specified requirements and are free of defects.\\n   - Perform user acceptance testing with stakeholders to validate the loyalty program management interface and functionality.\\n\\n6. Deployment:\\n   - Plan and execute the deployment of the developed functionalities to the target environment, ensuring minimal disruption to existing systems.\\n   - Carry out any necessary data migration or integration tasks.\\n\\n7. Monitoring and Maintenance:\\n   - Establish monitoring processes to track the usage and performance of the developed functionalities.\\n   - Address any post-deployment issues and continue to provide maintenance and support as needed.\\n\\nThroughout the project, I would also ensure open and transparent communication with stakeholders, regular progress updates, and proactive risk management to ensure the successful completion of the project. Adhering to this comprehensive process will help in delivering a high-quality solution that meets the project requirements.\""
     },
     "execution_count": 81,
     "metadata": {},
     "output_type": "execute_result"
    }
   ],
   "source": [
    "process"
   ],
   "metadata": {
    "collapsed": false,
    "ExecuteTime": {
     "end_time": "2023-11-20T07:16:57.382844Z",
     "start_time": "2023-11-20T07:16:57.377683Z"
    }
   },
   "id": "2962474f2af493f3"
  },
  {
   "cell_type": "code",
   "execution_count": 72,
   "outputs": [],
   "source": [
    "def json_parser(message: str):\n",
    "    response = client.chat.completions.create(\n",
    "        model=\"gpt-3.5-turbo-1106\",\n",
    "        tool_choice={\"type\": \"function\", \"function\": {\"name\": \"team_parser\"}},\n",
    "        tools=[{\n",
    "            \"type\": \"function\",\n",
    "            \"function\": {\n",
    "                \"name\": \"team_parser\",\n",
    "                \"description\": \"Parse the team structure\",\n",
    "                \"parameters\": {\n",
    "                    \"type\": \"object\",\n",
    "                    \"properties\": {\n",
    "                        \"members\": {\n",
    "                            \"type\": \"array\",\n",
    "                            \"items\": {\n",
    "                                \"type\": \"object\",\n",
    "                                \"properties\": {\n",
    "                                    \"name\": {\n",
    "                                        \"type\": \"string\",\n",
    "                                        \"description\": \"The name of the role of the team member, e.g. 'Project Manager'\"\n",
    "                                    },\n",
    "                                    \"description\": {\n",
    "                                        \"type\": \"string\",\n",
    "                                        \"description\": \"The responsibility of the team member, e.g. 'You are a experienced project manager for custom software development. Your are Responsible for overall project coordination, stakeholder communication, planning, resource allocation, and risk management.'\"\n",
    "                                    }\n",
    "                                }\n",
    "                            }\n",
    "                        }\n",
    "                    }\n",
    "                },\n",
    "            }\n",
    "        }],\n",
    "        messages=[{\"role\": \"user\", \"content\": message}]\n",
    "    )\n",
    "    return response.choices[0].message"
   ],
   "metadata": {
    "collapsed": false,
    "ExecuteTime": {
     "end_time": "2023-11-20T07:13:30.188553Z",
     "start_time": "2023-11-20T07:13:30.178959Z"
    }
   },
   "id": "1037e7278cf95f0a"
  },
  {
   "cell_type": "code",
   "execution_count": 73,
   "outputs": [],
   "source": [
    "team_structure_parsed = json_parser(team_structure)"
   ],
   "metadata": {
    "collapsed": false,
    "ExecuteTime": {
     "end_time": "2023-11-20T07:13:34.880731Z",
     "start_time": "2023-11-20T07:13:30.628649Z"
    }
   },
   "id": "e59e6b1d676b06fd"
  },
  {
   "cell_type": "code",
   "execution_count": 77,
   "outputs": [],
   "source": [
    "team_json = json.loads(team_structure_parsed.tool_calls[0].function.arguments)"
   ],
   "metadata": {
    "collapsed": false,
    "ExecuteTime": {
     "end_time": "2023-11-20T07:15:42.706967Z",
     "start_time": "2023-11-20T07:15:42.700712Z"
    }
   },
   "id": "3988608f5ea4d0f9"
  },
  {
   "cell_type": "code",
   "execution_count": 78,
   "outputs": [],
   "source": [
    "agents = [Agent(c) for c in team_json[\"members\"]]"
   ],
   "metadata": {
    "collapsed": false,
    "ExecuteTime": {
     "end_time": "2023-11-20T07:16:00.670583Z",
     "start_time": "2023-11-20T07:16:00.667444Z"
    }
   },
   "id": "a63e51f2c19d3c56"
  },
  {
   "cell_type": "code",
   "execution_count": 79,
   "outputs": [
    {
     "data": {
      "text/plain": "[<__main__.Agent at 0x10e9830a0>,\n <__main__.Agent at 0x10e983130>,\n <__main__.Agent at 0x10e983700>,\n <__main__.Agent at 0x10e983640>,\n <__main__.Agent at 0x10e982500>,\n <__main__.Agent at 0x10e9836d0>,\n <__main__.Agent at 0x10e983790>]"
     },
     "execution_count": 79,
     "metadata": {},
     "output_type": "execute_result"
    }
   ],
   "source": [
    "agents"
   ],
   "metadata": {
    "collapsed": false,
    "ExecuteTime": {
     "end_time": "2023-11-20T07:16:05.229227Z",
     "start_time": "2023-11-20T07:16:05.223309Z"
    }
   },
   "id": "a0d357608e0f5aab"
  },
  {
   "cell_type": "code",
   "execution_count": 32,
   "outputs": [
    {
     "name": "stdout",
     "output_type": "stream",
     "text": [
      "Customer Great, thank you for your assistance. I own a small cafe and I'm looking to implement a custom CRM system to better manage our customer relationships and improve our overall operations. I have a few key requirements that I'd like to discuss with you.\n",
      "\n",
      "Firstly, I'd like the CRM system to have a customer database where we can store and manage customer information such as contact details, preferences, purchase history, and any special notes or interactions we've had with them.\n",
      "\n",
      "I also want the system to have the capability to track customer interactions, such as emails, phone calls, and in-person visits, so that we can easily refer back to previous conversations and have a complete view of our interactions with each customer.\n",
      "\n",
      "Additionally, I'd like the CRM to have a feature for managing loyalty programs and tracking customer rewards and incentives. This should include the ability to set up and manage different loyalty tiers and promotions, as well as the ability to track points and redemptions.\n",
      "\n",
      "Furthermore, I need the system to integrate with our point-of-sale system so that customer purchases and transactions are automatically recorded in their profiles, allowing us to understand their buying habits and preferences.\n",
      "\n",
      "It is also important for the CRM system to have reporting and analytics capabilities, so that we can generate insights into our customer base, sales trends, and overall performance, all in one place.\n",
      "\n",
      "Lastly, I would like the system to have the ability to send targeted marketing communications and promotions to specific customer segments based on their purchase history and preferences.\n",
      "\n",
      "Does this all make sense? Is there anything else I should consider for the CRM system?\n",
      "System Analyst Thank you for providing the requirements. To ensure that we capture all the necessary details, I have a few questions:\n",
      "\n",
      "1. Customer Database: Do you have specific fields in mind for the customer database, such as name, contact details, address, etc.?\n",
      "2. Tracking Customer Interactions: How do you currently track customer interactions? Do you have specific requirements for how this information should be logged and accessed within the CRM system?\n",
      "3. Loyalty Programs: Can you provide more details about the loyalty programs you currently offer, or intend to offer, such as point-based systems, rewards, and incentives?\n",
      "4. Integration with Point-of-Sale System: Which POS system do you currently use, and what specific integration points would you like to see between the CRM and POS systems?\n",
      "5. Reporting and Analytics: What specific metrics and insights are you looking to generate from the CRM system?\n",
      "6. Marketing Communications: Do you currently use any specific tools for marketing communications, and are there any specific criteria for targeting customer segments?\n",
      "\n",
      "Additionally, do you have any preferences or constraints regarding the technology to be used for the CRM system, such as cloud-based solutions, specific platforms, or any existing infrastructure that the CRM system should integrate with?\n",
      "\n",
      "Finally, are there any specific security or privacy requirements that need to be factored into the design of the CRM system to ensure the protection of customer data?\n",
      "\n",
      "Please feel free to provide any other details that you believe are important for the CRM system.\n",
      "Customer Thank you for your questions. I appreciate your thorough approach to understanding our needs. Here are the answers to your questions:\n",
      "\n",
      "1. Customer Database: Yes, the customer database should include fields for name, contact details (phone number, email address), physical address, and any relevant notes or preferences provided by the customers.\n",
      "\n",
      "2. Tracking Customer Interactions: Currently, we don't have a formal system in place for tracking customer interactions beyond basic logs of customer inquiries and feedback. We would like the CRM system to have the capability to log and categorize interactions based on the type (in-person, phone, email), date, and content of the interaction.\n",
      "\n",
      "3. Loyalty Programs: We currently have a point-based loyalty program where customers earn points with each purchase. The CRM system should be able to track and manage these points and allow for the creation and management of different loyalty tiers and promotions.\n",
      "\n",
      "4. Integration with Point-of-Sale System: We use a cloud-based POS system, and we would like the CRM to integrate with it to capture customer purchase data, including items purchased, transaction amounts, and frequency of visits.\n",
      "\n",
      "5. Reporting and Analytics: We are looking to generate reports on customer demographics, sales trends, customer retention rates, and the effectiveness of loyalty programs.\n",
      "\n",
      "6. Marketing Communications: We currently use email marketing tools for sending promotions and updates. Within the CRM system, we would like to segment our customer base based on their purchase history and preferences to target specific groups with relevant communications.\n",
      "\n",
      "As for technology preferences, we are open to both cloud-based and on-premise solutions, but ease of use and scalability are important considerations. The system should also integrate seamlessly with our existing tools and infrastructure.\n",
      "\n",
      "In terms of security and privacy, we need to ensure that the CRM system is compliant with data protection regulations and that customer data is securely stored and accessed only by authorized personnel.\n",
      "\n",
      "I hope this gives you a clear understanding of our requirements. If you need any further details, please let me know.\n",
      "System Analyst Thank you for providing the detailed information. Based on your requirements, I will begin to work on the design for the custom CRM system. I will pay particular attention to the following key features:\n",
      "\n",
      "1. Customer Database: The system will include fields for name, contact details, address, and personalized notes.\n",
      "\n",
      "2. Tracking Customer Interactions: The CRM system will provide functionality to log and categorize customer interactions based on type, date, and content.\n",
      "\n",
      "3. Loyalty Programs: Support for managing point-based loyalty programs, including the creation and management of different loyalty tiers and promotions.\n",
      "\n",
      "4. Integration with Point-of-Sale System: Seamless integration with your cloud-based POS system to capture customer purchase data.\n",
      "\n",
      "5. Reporting and Analytics: The system will offer reporting capabilities for customer demographics, sales trends, customer retention rates, and loyalty program effectiveness.\n",
      "\n",
      "6. Marketing Communications: The CRM system will enable segmentation of the customer base for targeted marketing communications.\n",
      "\n",
      "Additionally, the CRM system will be designed with considerations for ease of use, scalability, integration with existing tools and infrastructure, and compliance with data protection regulations to ensure the security and privacy of customer data.\n",
      "\n",
      "I will work on creating a detailed software requirements specification document based on these requirements. If you have any further details to add or if there are any changes, feel free to let me know.\n",
      "Customer Thank you for summarizing the key features and for your proactive approach. The outline aligns with our requirements, and I appreciate your attention to detail. I'm looking forward to seeing the software requirements specification document and will be sure to review it thoroughly. If any clarifications or additional details are needed during the process, I will not hesitate to reach out.\n",
      "\n",
      "I am confident that we are moving in the right direction to develop a custom CRM system that will greatly benefit our cafe operations. Thank you for your assistance, and I am grateful for your expertise in this project.\n",
      "System Analyst You're welcome! I'm glad to be of assistance, and I'm looking forward to collaborating with you to create a CRM system that meets your business needs. I will ensure that the software requirements specification document captures all the necessary details and aligns with your expectations.\n",
      "\n",
      "If you have any further questions or require additional support at any point during the process, please don't hesitate to reach out. I'm committed to delivering a comprehensive and effective CRM solution for your cafe.\n",
      "\n",
      "Thank you for the opportunity to work on this project, and I'm excited about the positive impact the new CRM system will have on your cafe operations.\n",
      "Customer Your enthusiasm and dedication to the project are truly appreciated. I'm also excited about the potential benefits of the new CRM system for our cafe. Thank you for your support and commitment to delivering a valuable solution for our business. I look forward to our continued collaboration and the successful implementation of the custom CRM system. Let's work together to make this project a resounding success. Thank you once again for your assistance.\n",
      "System Analyst You're very welcome! I'm equally excited about the opportunity to work with you and to contribute to the success of your cafe. Let's indeed work together to ensure that the custom CRM system not only meets but exceeds your expectations.\n",
      "\n",
      "I value our collaboration and am committed to delivering a high-quality solution that will positively impact your business operations. Thank you for your trust and collaboration. I'm here to support you every step of the way.\n",
      "\n",
      "Let's make this project a resounding success. Thank you once again for the opportunity, and I look forward to our continued collaboration.\n",
      "Customer It's a pleasure to work with someone as dedicated and enthusiastic as you. I greatly appreciate your commitment to delivering a high-quality solution for our cafe. Your support and collaborative approach are truly invaluable. I am looking forward to the positive impact the custom CRM system will have on our business, and I am confident that with your expertise, we will achieve great success.\n",
      "\n",
      "Thank you once again for your dedication and support. I too eagerly anticipate the continued collaboration and the successful implementation of our new CRM system. Let's make this project a resounding success.\n",
      "System Analyst Thank you for your kind words. I am truly honored to be part of this project, and I am excited about the positive impact the new CRM system will have on your business. I am fully committed to delivering a high-quality solution that meets your needs and exceeds your expectations.\n",
      "\n",
      "I value our collaboration and am dedicated to ensuring the success of this project. I am looking forward to our continued partnership and the successful implementation of the custom CRM system. Let's work together to make this project a resounding success.\n",
      "\n",
      "Thank you once again for your trust and collaboration. I am here to support you every step of the way.\n",
      "Customer Thank you for your dedication and commitment. Your enthusiasm and support are truly appreciated. I am confident that with your expertise and collaborative approach, we will achieve great success with the implementation of the custom CRM system. I am looking forward to our continued partnership and the positive impact this project will have on our business.\n",
      "\n",
      "Your commitment to delivering a high-quality solution is commendable, and I am grateful for your support every step of the way. Let's work together to make this project a resounding success. Thank you once again for your dedication and partnership.\n",
      "System Analyst You're very welcome! Your confidence and support mean a great deal to me, and I am fully committed to the success of this project. I appreciate your trust and collaboration, and I am looking forward to our continued partnership as we work together to implement the custom CRM system.\n",
      "\n",
      "I am dedicated to delivering a high-quality solution that aligns with your business needs and contributes to the positive impact you are aiming for. Let's indeed work together to make this project a resounding success.\n",
      "\n",
      "Thank you once again for your dedication and partnership. I am here to support you every step of the way, and I am excited about the journey ahead.\n",
      "Customer Thank you for your kind words and commitment. Your dedication to delivering a high-quality solution and your enthusiasm for the project are truly valued. I am grateful for your support and look forward to our continued partnership as we work towards implementing the custom CRM system.\n",
      "\n",
      "Your assurance of support and collaboration is greatly appreciated, and I am excited about the journey ahead. Let's work together to make this project a resounding success. Thank you once again for your dedication and partnership. I am confident that with our collaboration, we will achieve great results.\n",
      "System Analyst You're very welcome! I truly appreciate your kind words and am equally grateful for the opportunity to work together. Your commitment to this project is commendable, and I share your enthusiasm for the journey ahead.\n",
      "\n",
      "I am dedicated to delivering a high-quality solution, and I am truly looking forward to our continued partnership as we work towards implementing the custom CRM system. Let's collaborate closely to ensure the success of this project and make it a resounding success.\n",
      "\n",
      "Thank you once again for your dedication and partnership. I am confident that, together, we will achieve great results. I'm here to support you every step of the way, and I am excited about the positive impact the custom CRM system will have on your business.\n",
      "Customer Thank you for your dedication and collaborative spirit. I am equally appreciative of the opportunity to work with you. Your enthusiasm and commitment to delivering a high-quality solution are truly valued, and I am excited about the positive impact the custom CRM system will have on our business.\n",
      "\n",
      "I am looking forward to our continued partnership and the successful implementation of the CRM system. Let's work closely together to ensure the success of this project and make it a resounding success.\n",
      "\n",
      "Thank you once again for your dedication and support. I am confident that, together, we will achieve great results. Your commitment and willingness to support us every step of the way are invaluable.\n",
      "System Analyst Thank you for your kind words. I am equally grateful for the opportunity to work with you, and I share your enthusiasm for the positive impact the custom CRM system will have on your business. Your commitment to this project is commendable, and I am fully dedicated to delivering a high-quality solution.\n",
      "\n",
      "I am excited about our continued partnership and the successful implementation of the CRM system. Together, we will work closely to ensure the success of this project and make it a resounding success.\n",
      "\n",
      "Once again, thank you for your dedication and support. I am confident that, together, we will achieve great results. Your commitment to this project is truly appreciated, and I am here to support you every step of the way.\n",
      "Customer Thank you for your kind and encouraging words. I am looking forward to our partnership in implementing the custom CRM system and achieving great results together. Your dedication and support are truly appreciated, and I am confident that with our collaboration, we will successfully meet our goals.\n",
      "\n",
      "I am excited about the positive impact the custom CRM system will bring to our business, and I am committed to working closely with you every step of the way. Let's make this project a resounding success. Thank you once again for your dedication and commitment.\n",
      "System Analyst You're very welcome! I share your optimism and look forward to our partnership as we embark on the implementation of the custom CRM system. Your dedication and forward-looking approach are truly commendable, and I am likewise committed to achieving our shared goals.\n",
      "\n",
      "The positive impact the CRM system will bring to your business is indeed exciting, and I'm dedicated to working closely with you every step of the way to ensure its success. Let's make this project a resounding success and achieve great results together.\n",
      "\n",
      "Once again, thank you for your dedication and commitment. I am here to support you, and I'm enthusiastic about the journey ahead.\n",
      "Customer Thank you for your encouraging response. I am equally enthusiastic about our partnership and committed to achieving our shared goals. I truly appreciate your dedication and support, and I am looking forward to collaborating closely with you throughout the implementation of the custom CRM system.\n",
      "\n",
      "Together, we will work towards making this project a resounding success and achieving great results for our business. Your commitment and collaborative approach are truly valued, and I am excited about the journey ahead.\n",
      "\n",
      "Thank you once again for your dedication and partnership. I am here to support you every step of the way, and I am optimistic about the positive impact the custom CRM system will have on our business.\n",
      "System Analyst Your enthusiasm and dedication are truly appreciated, and I'm equally excited about our collaboration in implementing the custom CRM system. Together, we will strive to achieve our shared goals and ensure the success of this project.\n",
      "\n",
      "I value our partnership and am committed to working closely with you throughout the implementation process. I share your optimism about the positive impact the custom CRM system will have on your business, and I'm fully dedicated to supporting you every step of the way.\n",
      "\n",
      "Thank you once again for your dedication and partnership. I am optimistic about the journey ahead and am committed to achieving great results for your business. Let's work together to make this project a resounding success.\n"
     ]
    }
   ],
   "source": [
    "sa_agent.add_init_message(\"Hello, I am a system analyst. I am here to help you design a system for your business.\")\n",
    "\n",
    "counter = 0\n",
    "message = \"Hello, I am a system analyst. I am here to help you design a system for your business.\"\n",
    "\n",
    "message_log = []\n",
    "\n",
    "while counter < 10:\n",
    "    message = customer_agent.send(message)\n",
    "    message_log.append({\"role\": \"sa\", \"content\": message})\n",
    "    message = sa_agent.send(message)\n",
    "    message_log.append({\"role\": \"customer\", \"content\": message})\n",
    "    counter += 1"
   ],
   "metadata": {
    "collapsed": false,
    "ExecuteTime": {
     "end_time": "2023-11-20T06:38:59.750443Z",
     "start_time": "2023-11-20T06:33:13.218364Z"
    }
   },
   "id": "577bac05825fc2f8"
  },
  {
   "cell_type": "code",
   "execution_count": 33,
   "outputs": [],
   "source": [
    "sa2 = {\n",
    "    \"name\": \"System Analyst\",\n",
    "    \"description\": \"You are a system analyst. Base on the conversation between a business analyst and customer, you need to create software requirements specification document for your development team.\",\n",
    "}"
   ],
   "metadata": {
    "collapsed": false,
    "ExecuteTime": {
     "end_time": "2023-11-20T06:38:59.750861Z",
     "start_time": "2023-11-20T06:38:59.718916Z"
    }
   },
   "id": "242d0f03448a6575"
  },
  {
   "cell_type": "code",
   "execution_count": 34,
   "outputs": [],
   "source": [
    "sa_agent_2 = Agent(sa2)"
   ],
   "metadata": {
    "collapsed": false,
    "ExecuteTime": {
     "end_time": "2023-11-20T06:38:59.750960Z",
     "start_time": "2023-11-20T06:38:59.723047Z"
    }
   },
   "id": "d90a769eac2e6159"
  },
  {
   "cell_type": "code",
   "execution_count": 35,
   "outputs": [],
   "source": [
    "history = \"\\n\".join([f\"{m['role']}: {m['content']}\" for m in message_log])\n",
    "conversation_history = f\"Below is a conversation history,\\n{history}\\n\\n\""
   ],
   "metadata": {
    "collapsed": false,
    "ExecuteTime": {
     "end_time": "2023-11-20T06:38:59.768988Z",
     "start_time": "2023-11-20T06:38:59.750331Z"
    }
   },
   "id": "e20bf29af952ee98"
  },
  {
   "cell_type": "code",
   "execution_count": 36,
   "outputs": [
    {
     "name": "stdout",
     "output_type": "stream",
     "text": [
      "System Analyst # Software Requirements Specification\n",
      "\n",
      "## 1. Introduction\n",
      "The purpose of this document is to provide a clear and comprehensive set of software requirements for the development of a custom CRM system for the small cafe owned by the customer. The CRM system aims to enhance customer relationship management, improve operations, and provide valuable insights into customer data and business performance.\n",
      "\n",
      "## 2. Functional Requirements\n",
      "### 2.1 Customer Database\n",
      "The CRM system should include a customer database with the following fields:\n",
      "- Name\n",
      "- Contact details (phone number, email address)\n",
      "- Physical address\n",
      "- Relevant notes or preferences provided by the customers\n",
      "\n",
      "### 2.2 Tracking Customer Interactions\n",
      "The system should allow for the logging and categorization of customer interactions based on the following criteria:\n",
      "- Type (in-person, phone, email)\n",
      "- Date of interaction\n",
      "- Content of the interaction\n",
      "\n",
      "### 2.3 Loyalty Programs\n",
      "The CRM system should support the management of a point-based loyalty program as well as the creation and management of different loyalty tiers and promotions.\n",
      "\n",
      "### 2.4 Integration with Point-of-Sale System\n",
      "Seamless integration with the existing cloud-based POS system should be achieved to capture customer purchase data including items purchased, transaction amounts, and frequency of visits.\n",
      "\n",
      "### 2.5 Reporting and Analytics\n",
      "The system should provide reporting capabilities to generate insights into:\n",
      "- Customer demographics\n",
      "- Sales trends\n",
      "- Customer retention rates\n",
      "- Effectiveness of loyalty programs\n",
      "\n",
      "### 2.6 Marketing Communications\n",
      "The CRM system should allow segmentation of the customer base for targeted marketing communications based on purchase history and preferences.\n",
      "\n",
      "## 3. Non-Functional Requirements\n",
      "### 3.1 Technology Preferences\n",
      "The system should be open to both cloud-based and on-premise solutions with considerations for ease of use and scalability. Additionally, it should integrate seamlessly with existing tools and infrastructure.\n",
      "\n",
      "### 3.2 Security and Privacy\n",
      "The CRM system must comply with data protection regulations and ensure secure storage and access of customer data by authorized personnel only.\n",
      "\n",
      "## 4. Design and Architecture Considerations\n",
      "The CRM system should be designed with considerations for flexibility, modularity, and scalability to accommodate future growth and evolving business needs.\n",
      "\n",
      "## 5. Miscellaneous\n",
      "Any additional details provided by the customer should be incorporated into the design and development of the CRM system as necessary.\n",
      "\n",
      "## Conclusion\n",
      "This Software Requirements Specification document outlines the key functional and non-functional requirements for the development of the custom CRM system for the small cafe. The defined requirements aim to ensure the successful implementation of a CRM solution that aligns with the customer's business needs and operational goals.\n"
     ]
    }
   ],
   "source": [
    "result = sa_agent_2.send(conversation_history)"
   ],
   "metadata": {
    "collapsed": false,
    "ExecuteTime": {
     "end_time": "2023-11-20T06:40:00.680701Z",
     "start_time": "2023-11-20T06:38:59.750653Z"
    }
   },
   "id": "7efcb1895a052014"
  },
  {
   "cell_type": "code",
   "execution_count": 37,
   "outputs": [],
   "source": [
    "pm = {\n",
    "    \"name\": \"Project Manager\",\n",
    "    \"description\": \"You are a experienced project manager for custom software development.\",\n",
    "}"
   ],
   "metadata": {
    "collapsed": false,
    "ExecuteTime": {
     "end_time": "2023-11-20T06:40:00.687727Z",
     "start_time": "2023-11-20T06:40:00.680036Z"
    }
   },
   "id": "614f66ed6b62bb53"
  },
  {
   "cell_type": "code",
   "execution_count": 51,
   "outputs": [],
   "source": [
    "pm_agent = Agent(pm)"
   ],
   "metadata": {
    "collapsed": false,
    "ExecuteTime": {
     "end_time": "2023-11-20T06:48:39.324994Z",
     "start_time": "2023-11-20T06:48:39.312257Z"
    }
   },
   "id": "35af511a80ad0a5f"
  },
  {
   "cell_type": "code",
   "execution_count": 52,
   "outputs": [
    {
     "name": "stdout",
     "output_type": "stream",
     "text": [
      "Project Manager Based on the software requirements specified, the project team suitable for developing the custom CRM system for the small cafe should include the following roles:\n",
      "\n",
      "1. Project Manager: Responsible for overall project coordination, communication with the customer, resource allocation, and ensuring timely delivery of the CRM system.\n",
      "\n",
      "2. Business Analyst: Responsible for gathering and analyzing customer requirements, documenting business processes, and translating them into functional specifications for the development team.\n",
      "\n",
      "3. Software Architect: Responsible for designing the architecture of the CRM system, ensuring scalability, modularity, and alignment with the customer's business goals.\n",
      "\n",
      "4. UI/UX Designer: Responsible for creating user-friendly and visually appealing interfaces for the CRM system, focusing on ease of use for both employees and customers.\n",
      "\n",
      "5. Frontend Developer: Responsible for implementing the UI/UX designs and developing the frontend components of the CRM system using appropriate technologies.\n",
      "\n",
      "6. Backend Developer: Responsible for implementing the backend logic, database management, and integration with existing POS systems using suitable programming languages and frameworks.\n",
      "\n",
      "7. Quality Assurance (QA) Engineer: Responsible for testing the CRM system to ensure its functionality, usability, and security, and for identifying and reporting any bugs or issues to the development team.\n",
      "\n",
      "8. Security Specialist: Responsible for ensuring that the CRM system complies with data protection regulations, implementing secure access controls, and addressing any security vulnerabilities.\n",
      "\n",
      "9. Database Administrator: Responsible for managing the customer database, ensuring data integrity, security, and performance optimization.\n",
      "\n",
      "Based on the team members' expertise, experience, and availability, the project manager should assign specific tasks and responsibilities to each team member accordingly. Each team member should collaborate effectively to meet the project goals and deliver a successful CRM system for the small cafe.\n"
     ]
    }
   ],
   "source": [
    "teams = pm_agent.send(\n",
    "    f\"Below is the software requirements specification document,\\n{result}\\n\\n What is the project team you think is suitable for this project?\")"
   ],
   "metadata": {
    "collapsed": false,
    "ExecuteTime": {
     "end_time": "2023-11-20T06:48:45.568727Z",
     "start_time": "2023-11-20T06:48:39.993623Z"
    }
   },
   "id": "72ac195ad54750c9"
  },
  {
   "cell_type": "code",
   "execution_count": 53,
   "outputs": [
    {
     "name": "stdout",
     "output_type": "stream",
     "text": [
      "Project Manager Breaking down the tasks for developing the custom CRM system for the small cafe and assigning them to the team members could be approached as follows:\n",
      "\n",
      "1. Project Manager\n",
      "   - Coordinate with the customer to gather initial requirements and finalize project scope.\n",
      "   - Allocate resources and create a project timeline.\n",
      "   - Assign tasks to team members and monitor project progress.\n",
      "   - Ensure regular communication with the customer and handle any project-related issues.\n",
      "\n",
      "2. Business Analyst\n",
      "   - Conduct interviews and workshops with the cafe owner to gather detailed business and functional requirements.\n",
      "   - Document the business processes and customer requirements.\n",
      "   - Create functional specifications and use cases for the CRM system.\n",
      "\n",
      "3. Software Architect\n",
      "   - Design the overall architecture of the CRM system, considering scalability and modularity.\n",
      "   - Determine the technology stack and integration points with existing systems.\n",
      "   - Prepare architectural diagrams and documentation for the development team.\n",
      "\n",
      "4. UI/UX Designer\n",
      "   - Create wireframes and mockups for the user interface of the CRM system.\n",
      "   - Design the user experience flow for customer interactions and employee usage.\n",
      "   - Ensure that the UI/UX aligns with the branding and usability requirements of the small cafe.\n",
      "\n",
      "5. Frontend Developer\n",
      "   - Implement the UI/UX designs and develop the frontend components of the CRM system.\n",
      "   - Ensure the responsiveness and accessibility of the user interface across different devices.\n",
      "   - Collaborate closely with the UI/UX designer to iterate on design implementations.\n",
      "\n",
      "6. Backend Developer\n",
      "   - Develop the backend logic for customer data management and integration with the POS system.\n",
      "   - Implement the loyalty program management and reporting functionalities.\n",
      "   - Ensure the security and performance of the backend components.\n",
      "\n",
      "7. Quality Assurance (QA) Engineer\n",
      "   - Create test cases based on functional and non-functional requirements.\n",
      "   - Conduct testing of the CRM system to ensure its functionality, usability, and security.\n",
      "   - Report any bugs or issues and collaborate with the development team to address them.\n",
      "\n",
      "8. Security Specialist\n",
      "   - Conduct a security assessment of the CRM system's architecture and data storage.\n",
      "   - Implement secure access controls and encryption measures for customer data.\n",
      "   - Ensure compliance with data protection regulations and best security practices.\n",
      "\n",
      "9. Database Administrator\n",
      "   - Design and implement the customer database schema and data storage strategy.\n",
      "   - Ensure data integrity, security, and optimize database performance.\n",
      "   - Collaborate with the backend developer to handle data integration and migration.\n",
      "\n",
      "The breakdown of tasks and assignment to the team members should be based on their expertise, experience, and workload capacity, and the project manager should facilitate regular communication and coordination among the team members to ensure successful delivery of the CRM system.\n"
     ]
    }
   ],
   "source": [
    " task_break_down = pm_agent.send(f\"Hwo will you breakdown the task and assign to each team member?\")"
   ],
   "metadata": {
    "collapsed": false,
    "ExecuteTime": {
     "end_time": "2023-11-20T06:50:48.506915Z",
     "start_time": "2023-11-20T06:49:38.802853Z"
    }
   },
   "id": "e5de5e4357a80ecf"
  },
  {
   "cell_type": "code",
   "execution_count": 41,
   "outputs": [],
   "source": [
    "bd = {\n",
    "    \"name\": \"Backend Developer\",\n",
    "    \"description\": \"You are a backend developer. You receive document from your project manager. You need to analyse the task then list out the question you need to clarify before kick start your task.\",\n",
    "}"
   ],
   "metadata": {
    "collapsed": false,
    "ExecuteTime": {
     "end_time": "2023-11-20T06:43:09.728194Z",
     "start_time": "2023-11-20T06:43:09.722Z"
    }
   },
   "id": "212de45eccbd2d1f"
  },
  {
   "cell_type": "code",
   "execution_count": 45,
   "outputs": [],
   "source": [
    "bd_agent = Agent(bd)"
   ],
   "metadata": {
    "collapsed": false,
    "ExecuteTime": {
     "end_time": "2023-11-20T06:44:08.614352Z",
     "start_time": "2023-11-20T06:44:08.603342Z"
    }
   },
   "id": "d491737528195512"
  },
  {
   "cell_type": "code",
   "execution_count": 46,
   "outputs": [
    {
     "name": "stdout",
     "output_type": "stream",
     "text": [
      "Backend Developer Questions to clarify:\n",
      "1. What are the specified fields for the customer database?\n",
      "2. What are the requirements for tracking customer interactions? Are there specific data points to capture or categorization criteria to follow?\n",
      "3. What are the requirements for the loyalty program management functionality? Are there specific rules or features that need to be implemented?\n",
      "\n",
      "Additionally, it would be helpful to understand the technologies or frameworks to be used and any integration points with other systems.\n"
     ]
    }
   ],
   "source": [
    "task = \"\"\"### Backend Developer 1\n",
    "1. Design and develop the customer database with the specified fields.\n",
    "2. Implement the tracking of customer interactions, including logging and categorization.\n",
    "3. Develop the loyalty program management functionality.\"\"\"\n",
    "required_clarification = bd_agent.send(f\"Below is the project break down,\\n{project_break_down}\\n\\n {task}\")"
   ],
   "metadata": {
    "collapsed": false,
    "ExecuteTime": {
     "end_time": "2023-11-20T06:44:14.546748Z",
     "start_time": "2023-11-20T06:44:10.587881Z"
    }
   },
   "id": "2635aee33552f1a5"
  },
  {
   "cell_type": "code",
   "execution_count": 48,
   "outputs": [
    {
     "name": "stdout",
     "output_type": "stream",
     "text": [
      "System Analyst To address the backend developer's questions:\n",
      "\n",
      "1. The specified fields for the customer database include: \n",
      "   - Name\n",
      "   - Contact details (phone number, email address)\n",
      "   - Physical address\n",
      "   - Any relevant notes or preferences provided by the customers\n",
      "\n",
      "2. The requirements for tracking customer interactions involve capturing the following data points and categorization criteria:\n",
      "   - Type of interaction (in-person, phone, email, etc.)\n",
      "   - Date and time of interaction\n",
      "   - Content or details of the interaction\n",
      "   - Any specific categorization criteria, such as the nature of the interaction (e.g., general inquiry, feedback, complaint, purchase-related, etc.)\n",
      "\n",
      "3. Regarding loyalty program management functionality, the requirements include:\n",
      "   - Point-based loyalty program\n",
      "   - Ability to track and manage customer points\n",
      "   - Creation and management of different loyalty tiers\n",
      "   - Implementation of promotions related to the loyalty program\n",
      "   - Rules for earning and redeeming points\n",
      "   - Reporting capabilities to provide insights into the effectiveness of the loyalty program\n",
      "\n",
      "As for the technologies or frameworks, you should discuss this with the system analyst. Additionally, integration points with other systems include:\n",
      "   - Integration with the existing point-of-sale (POS) system to capture customer purchase data, including items purchased, transaction amounts, and frequency of visits\n",
      "\n",
      "Feel free to collaborate with the system analyst to gather more specific details about the technologies, frameworks, and integration points for implementation.\n",
      "\n",
      "I hope this information helps in providing clarity on the requirements for the backend development of the custom CRM system.\n"
     ]
    }
   ],
   "source": [
    "response_from_sa = sa_agent.send(f\"Following are the question from the backend developer, {required_clarification}\")"
   ],
   "metadata": {
    "collapsed": false,
    "ExecuteTime": {
     "end_time": "2023-11-20T06:45:28.856698Z",
     "start_time": "2023-11-20T06:45:24.071056Z"
    }
   },
   "id": "7941dfe3380b4b3b"
  },
  {
   "cell_type": "code",
   "execution_count": 49,
   "outputs": [
    {
     "data": {
      "text/plain": "\"To address the backend developer's questions:\\n\\n1. The specified fields for the customer database include: \\n   - Name\\n   - Contact details (phone number, email address)\\n   - Physical address\\n   - Any relevant notes or preferences provided by the customers\\n\\n2. The requirements for tracking customer interactions involve capturing the following data points and categorization criteria:\\n   - Type of interaction (in-person, phone, email, etc.)\\n   - Date and time of interaction\\n   - Content or details of the interaction\\n   - Any specific categorization criteria, such as the nature of the interaction (e.g., general inquiry, feedback, complaint, purchase-related, etc.)\\n\\n3. Regarding loyalty program management functionality, the requirements include:\\n   - Point-based loyalty program\\n   - Ability to track and manage customer points\\n   - Creation and management of different loyalty tiers\\n   - Implementation of promotions related to the loyalty program\\n   - Rules for earning and redeeming points\\n   - Reporting capabilities to provide insights into the effectiveness of the loyalty program\\n\\nAs for the technologies or frameworks, you should discuss this with the system analyst. Additionally, integration points with other systems include:\\n   - Integration with the existing point-of-sale (POS) system to capture customer purchase data, including items purchased, transaction amounts, and frequency of visits\\n\\nFeel free to collaborate with the system analyst to gather more specific details about the technologies, frameworks, and integration points for implementation.\\n\\nI hope this information helps in providing clarity on the requirements for the backend development of the custom CRM system.\""
     },
     "execution_count": 49,
     "metadata": {},
     "output_type": "execute_result"
    }
   ],
   "source": [
    "response_from_sa"
   ],
   "metadata": {
    "collapsed": false,
    "ExecuteTime": {
     "end_time": "2023-11-20T06:45:28.863975Z",
     "start_time": "2023-11-20T06:45:28.857905Z"
    }
   },
   "id": "acdeca846c32d815"
  }
 ],
 "metadata": {
  "kernelspec": {
   "display_name": "Python 3",
   "language": "python",
   "name": "python3"
  },
  "language_info": {
   "codemirror_mode": {
    "name": "ipython",
    "version": 2
   },
   "file_extension": ".py",
   "mimetype": "text/x-python",
   "name": "python",
   "nbconvert_exporter": "python",
   "pygments_lexer": "ipython2",
   "version": "2.7.6"
  }
 },
 "nbformat": 4,
 "nbformat_minor": 5
}
