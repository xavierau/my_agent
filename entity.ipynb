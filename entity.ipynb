{
 "cells": [
  {
   "cell_type": "code",
   "execution_count": 1,
   "id": "initial_id",
   "metadata": {
    "collapsed": true,
    "ExecuteTime": {
     "end_time": "2023-11-13T03:26:40.211079Z",
     "start_time": "2023-11-13T03:26:40.007705Z"
    }
   },
   "outputs": [
    {
     "data": {
      "text/plain": "True"
     },
     "execution_count": 1,
     "metadata": {},
     "output_type": "execute_result"
    }
   ],
   "source": [
    "from openai import OpenAI\n",
    "import dotenv\n",
    "\n",
    "dotenv.load_dotenv()"
   ]
  },
  {
   "cell_type": "code",
   "execution_count": 2,
   "outputs": [],
   "source": [
    "def send_to_gpt(messages: list, model_name=\"gpt-3.5-turbo-1106\") -> str:\n",
    "    response = OpenAI().chat.completions.create(\n",
    "        model=model_name,\n",
    "        messages=messages,\n",
    "    )\n",
    "    return response.choices[0].message.content"
   ],
   "metadata": {
    "collapsed": false,
    "ExecuteTime": {
     "end_time": "2023-11-13T03:26:40.211290Z",
     "start_time": "2023-11-13T03:26:40.206928Z"
    }
   },
   "id": "621cf77f682b56f7"
  },
  {
   "cell_type": "code",
   "execution_count": 3,
   "outputs": [],
   "source": [
    "conversation = [{\"role\": \"user\", \"content\": [{\"type\": \"text\", \"text\": \"Any kids party in coming x'mas?\"}]},\n",
    "                {\"role\": \"assistant\", \"content\": \"\", \"tool_calls\": [{\"id\": \"call_6K3mH3gHpfNcRyo4YVJFh3nz\",\n",
    "                                                                     \"function\": {\n",
    "                                                                         \"arguments\": \"{\\\"query\\\": \\\"kids party events Christmas 2023 Hong Kong\\\", \\\"limit\\\": 3}\",\n",
    "                                                                         \"name\": \"google_search\"}, \"type\": \"function\"},\n",
    "                                                                    {\"id\": \"call_IKVAOnhLKnYx3KHDNLtcfOEH\",\n",
    "                                                                     \"function\": {\n",
    "                                                                         \"arguments\": \"{\\\"query\\\": \\\"kids activities Christmas 2023 Hong Kong\\\", \\\"limit\\\": 3}\",\n",
    "                                                                         \"name\": \"google_search\"},\n",
    "                                                                     \"type\": \"function\"}]}, {\"role\": \"tool\",\n",
    "                                                                                             \"content\": \"[{\\\"title\\\": \\\"Tickets - The Official Site of Disney On Ice\\\", \\\"link\\\": \\\"https://www.disneyonice.com/tickets/\\\", \\\"summary\\\": \\\"Based on the given context, there is no information provided about kids party events in Hong Kong during Christmas 2023.\\\"}]\",\n",
    "                                                                                             \"tool_call_id\": \"call_6K3mH3gHpfNcRyo4YVJFh3nz\",\n",
    "                                                                                             \"name\": \"google_search\"},\n",
    "                {\"role\": \"tool\",\n",
    "                 \"content\": \"[{\\\"title\\\": \\\"Christmas in Hong Kong 2023 - Top Advice and Events\\\", \\\"link\\\": \\\"https://www.chinahighlights.com/festivals/christmas-in-hong-kong.htm\\\", \\\"summary\\\": \\\"Some possible kids activities for Christmas 2023 in Hong Kong include visiting Disneyland, watching performances such as The Nutcracker by the Hong Kong Ballet, exploring the WinterFest event at the West Kowloon Cultural District, and checking out activities at churches, hotels, and gourmet restaurants. Additionally, you can consider visiting attractions such as Ocean Park, Ngong Ping 360, and the Hong Kong Cultural Centre, as they often have special Christmas-themed events and decorations. It is recommended to check the official websites closer to the date for more information on specific activities and events.\\\"}]\",\n",
    "                 \"tool_call_id\": \"call_IKVAOnhLKnYx3KHDNLtcfOEH\", \"name\": \"google_search\"}, {\"role\": \"assistant\",\n",
    "                                                                                             \"content\": \"It seems that there are various kids activities and events in Hong Kong for Christmas 2023. Some possible activities include visiting Disneyland, watching performances such as The Nutcracker by the Hong Kong Ballet, exploring the WinterFest event at the West Kowloon Cultural District, and checking out activities at churches, hotels, and gourmet restaurants. Additionally, attractions such as Ocean Park, Ngong Ping 360, and the Hong Kong Cultural Centre often have special Christmas-themed events and decorations. Keep an eye on the official websites closer to the date for more information on specific activities and events.\"},\n",
    "                {\"role\": \"user\", \"content\": [{\"type\": \"text\", \"text\": \"tell me more about WinterFest\"}]},\n",
    "                {\"role\": \"assistant\", \"content\": \"\", \"tool_calls\": [{\"id\": \"call_2dZOf7YIL85PtdbwpuodxpnQ\",\n",
    "                                                                     \"function\": {\n",
    "                                                                         \"arguments\": \"{\\\"query\\\":\\\"WinterFest West Kowloon Cultural District\\\",\\\"limit\\\":3}\",\n",
    "                                                                         \"name\": \"google_search\"},\n",
    "                                                                     \"type\": \"function\"}]}, {\"role\": \"tool\",\n",
    "                                                                                             \"content\": \"[{\\\"title\\\": \\\"Hong Kong WinterFest | Hong Kong Tourism Board\\\", \\\"link\\\": \\\"https://www.discoverhongkong.com/us/what-s-new/events/dhk-highlighted-events/hong-kong-winterfest.html\\\", \\\"summary\\\": \\\"WinterFest took place at the West Kowloon Cultural District. It featured a giant sparkling Christmas tree and whimsical displays. There were also festive activities, exclusive menus, and themed tours available for merrymakers to enjoy. The Hong Kong New Year Countdown Celebrations, with live performances and an enhanced edition of \\\\u2018A Symphony of Lights\\\\u2019, marked the end of the festivities.\\\"}, {\\\"title\\\": \\\"2022 Hong Kong WinterFest | 25.11.2022\\\\u20131.1.2023 | Art Park\\\", \\\"link\\\": \\\"https://www.westkowloon.hk/en/2022-hong-kong-winterfest\\\", \\\"summary\\\": \\\"The WinterFest at West Kowloon Cultural District is a festive event that takes place from November 25, 2022, to January 1, 2023, at the Art Park. It features a giant Christmas tree and colorful ornaments, along with various Christmas happenings and activities. Visitors can enjoy music performances, handicraft workshops, charity bazaars, and even meet and greet with Santa Claus. However, it is important to note that the context provided does not provide any additional information about WinterFest in West Kowloon Cultural District.\\\"}, {\\\"title\\\": \\\"Hong Kong WinterFest 2022 returns to West Kowloon Cultural District\\\", \\\"link\\\": \\\"https://www.timeout.com/hong-kong/things-to-do/hong-kong-winterfest-2022\\\", \\\"summary\\\": \\\"WinterFest will be held at the West Kowloon Cultural District in Hong Kong. It will feature a towering Christmas tree, colorful ornaments, shimmering decorations, a mini light show, and various festive activities such as meeting Santa Claus, live music performances, shopping at charity bazaars, and participating in handicraft workshops. The event offers a perfect opportunity to soak in the holiday vibes and enjoy the stunning backdrop of Victoria Harbour.\\\"}]\",\n",
    "                                                                                             \"tool_call_id\": \"call_2dZOf7YIL85PtdbwpuodxpnQ\",\n",
    "                                                                                             \"name\": \"google_search\"},\n",
    "                {\"role\": \"assistant\",\n",
    "                 \"content\": \"WinterFest at the West Kowloon Cultural District in Hong Kong is a festive event that features a giant sparkling Christmas tree, whimsical displays, and colorful ornaments. There are various festive activities, exclusive menus, and themed tours available for visitors to enjoy. The event also includes live music performances, meeting Santa Claus, charity bazaars, and handicraft workshops. Additionally, the Hong Kong New Year Countdown Celebrations, with live performances and an enhanced edition of 'A Symphony of Lights', mark the end of the festivities. The event offers a perfect opportunity to soak in the holiday vibes and enjoy the stunning backdrop of Victoria Harbour.\"},\n",
    "                {\"role\": \"user\", \"content\": [{\"type\": \"text\", \"text\": \"is it free?\"}]},\n",
    "                {\"role\": \"assistant\", \"content\": \"\", \"tool_calls\": [{\"id\": \"call_tiAJDXAJBWBQkptKfOdtPzZ4\",\n",
    "                                                                     \"function\": {\n",
    "                                                                         \"arguments\": \"{\\\"query\\\":\\\"WinterFest West Kowloon Cultural District ticket price\\\",\\\"limit\\\":3}\",\n",
    "                                                                         \"name\": \"google_search\"},\n",
    "                                                                     \"type\": \"function\"}]}, {\"role\": \"tool\",\n",
    "                                                                                             \"content\": \"[{\\\"title\\\": \\\"2022 Hong Kong WinterFest | 25.11.2022\\\\u20131.1.2023 | Art Park\\\", \\\"link\\\": \\\"https://www.westkowloon.hk/en/2022-hong-kong-winterfest\\\", \\\"summary\\\": \\\"I'm sorry, but based on the given context, there is no information available regarding the ticket price for WinterFest at West Kowloon Cultural District.\\\"}, {\\\"title\\\": \\\"Hong Kong WinterFest 2022 returns to West Kowloon Cultural District\\\", \\\"link\\\": \\\"https://www.timeout.com/hong-kong/things-to-do/hong-kong-winterfest-2022\\\", \\\"summary\\\": \\\"The ticket price for WinterFest at West Kowloon Cultural District is not mentioned in the given context.\\\"}, {\\\"title\\\": \\\"Hong Kong WinterFest | Hong Kong Tourism Board\\\", \\\"link\\\": \\\"https://www.discoverhongkong.com/us/what-s-new/events/dhk-highlighted-events/hong-kong-winterfest.html\\\", \\\"summary\\\": \\\"The ticket price for WinterFest at the West Kowloon Cultural District is not mentioned in the given context. It is recommended to visit the official website of Hong Kong WinterFest or contact the Hong Kong Tourism Board for more information on ticket prices.\\\"}]\",\n",
    "                                                                                             \"tool_call_id\": \"call_tiAJDXAJBWBQkptKfOdtPzZ4\",\n",
    "                                                                                             \"name\": \"google_search\"},\n",
    "                {\"role\": \"assistant\",\n",
    "                 \"content\": \"I couldn't find specific information about the ticket prices for WinterFest at the West Kowloon Cultural District. It is recommended to visit the official website of Hong Kong WinterFest or contact the Hong Kong Tourism Board for more information on ticket prices.\"},\n",
    "                {\"role\": \"user\", \"content\": [{\"type\": \"text\", \"text\": \"okay can you give me it officail website?\"}]},\n",
    "                {\"role\": \"assistant\", \"content\": \"\", \"tool_calls\": [{\"id\": \"call_bX4F3zMAymM831TYfIoEpNvc\",\n",
    "                                                                     \"function\": {\n",
    "                                                                         \"arguments\": \"{\\\"query\\\":\\\"Hong Kong WinterFest official website\\\",\\\"limit\\\":1}\",\n",
    "                                                                         \"name\": \"google_search\"},\n",
    "                                                                     \"type\": \"function\"}]}, {\"role\": \"tool\",\n",
    "                                                                                             \"content\": \"[{\\\"title\\\": \\\"Hong Kong WinterFest | Hong Kong Tourism Board\\\", \\\"link\\\": \\\"https://www.discoverhongkong.com/us/what-s-new/events/dhk-highlighted-events/hong-kong-winterfest.html\\\", \\\"summary\\\": \\\"The official website for Hong Kong WinterFest is the Hong Kong Tourism Board website.\\\"}]\",\n",
    "                                                                                             \"tool_call_id\": \"call_bX4F3zMAymM831TYfIoEpNvc\",\n",
    "                                                                                             \"name\": \"google_search\"},\n",
    "                {\"role\": \"assistant\",\n",
    "                 \"content\": \"You can find more information about Hong Kong WinterFest on the official website of the Hong Kong Tourism Board: [Hong Kong WinterFest | Hong Kong Tourism Board](https://www.discoverhongkong.com/us/what-s-new/events/dhk-highlighted-events/hong-kong-winterfest.html)\"},\n",
    "                {\"role\": \"user\", \"content\": [{\"type\": \"text\", \"text\": \"how to find freelance job other then upwork\"}]},\n",
    "                {\"role\": \"assistant\", \"content\": \"\", \"tool_calls\": [{\"id\": \"call_XqxEc9pFQqKXSdHzWSzH1Qba\",\n",
    "                                                                     \"function\": {\n",
    "                                                                         \"arguments\": \"{\\\"query\\\":\\\"freelance job platforms other than Upwork\\\",\\\"limit\\\":3}\",\n",
    "                                                                         \"name\": \"google_search\"},\n",
    "                                                                     \"type\": \"function\"}]}, {\"role\": \"tool\",\n",
    "                                                                                             \"content\": \"[{\\\"title\\\": \\\"Actually decent Upwork alternatives? : r/Upwork\\\", \\\"link\\\": \\\"https://www.reddit.com/r/Upwork/comments/qeai1z/actually_decent_upwork_alternatives/\\\", \\\"summary\\\": \\\"Some alternative freelance job platforms to Upwork include:\\\\n\\\\n1. Freelancer\\\\n2. Guru\\\\n3. Toptal\\\\n4. PeoplePerHour\\\\n5. Freelance Writing Gigs\\\\n6. CrowdSPRING\\\\n7. 99designs\\\\n8. Fiverr (although the user mentioned not being interested in this platform)\\\\n9. Freelanced\\\\n10. SimplyHired\\\\n\\\\nThese platforms offer a range of freelance job opportunities across different industries. It's important to research and compare each platform to find the best fit for your skills and preferences.\\\"}, {\\\"title\\\": \\\"Upwork Competitors 2023: 14 Sites Like Upwork for Every Need\\\", \\\"link\\\": \\\"https://everhour.com/blog/upwork-competitors/\\\", \\\"summary\\\": \\\"Some freelance job platforms other than Upwork include CloudDevs, SolidGigs, Freelancer, PeoplePerHour, and Hubstaff Talent. These platforms offer similar services to Upwork and are popular alternatives for businesses and freelancers. Additionally, there are niche alternatives such as 99Designs, DesignCrowd, TextBroker, Gun.io, Toptal, Flexiple, SoundBetter, Melody Nest, and AirGigs, which cater specifically to design, content writing, development, and music industries. It is recommended to try out different platforms to find the best fit for your needs.\\\"}]\",\n",
    "                                                                                             \"tool_call_id\": \"call_XqxEc9pFQqKXSdHzWSzH1Qba\",\n",
    "                                                                                             \"name\": \"google_search\"},\n",
    "                {\"role\": \"assistant\",\n",
    "                 \"content\": \"Some alternative freelance job platforms to Upwork include:\\n\\n- Freelancer\\n- Guru\\n- Toptal\\n- PeoplePerHour\\n- Freelance Writing Gigs\\n- CrowdSPRING\\n- 99designs\\n- Fiverr\\n- Freelanced\\n- SimplyHired\\n\\nThese platforms offer a range of freelance job opportunities across different industries. It's important to research and compare each platform to find the best fit for your skills and preferences. Additionally, other platforms like CloudDevs, SolidGigs, and Hubstaff Talent are also popular alternatives for businesses and freelancers. Niche alternatives such as 99Designs, DesignCrowd, TextBroker, Gun.io, Toptal, Flexiple, SoundBetter, Melody Nest, and AirGigs cater specifically to design, content writing, development, and music industries. It is recommended to try out different platforms to find the best fit for your needs.\"},\n",
    "                {\"role\": \"user\", \"content\": [{\"type\": \"text\", \"text\": \"I need some quick cash. Any idea?\"}]},\n",
    "                {\"role\": \"assistant\",\n",
    "                 \"content\": \"If you need some quick cash, here are a few ideas:\\n\\n1. Sell Unused Items: Consider selling items you no longer need or use. You can list them on online marketplaces or arrange a garage sale.\\n\\n2. Freelancing: Offer your skills and expertise as a freelancer on platforms like Upwork, Freelancer, or Fiverr to take on short-term projects.\\n\\n3. Part-Time Gigs: Look for part-time gigs such as dog walking, pet sitting, or tutoring that can help you earn some quick cash.\\n\\n4. Delivery or Ride-Sharing Services: Consider working for a delivery service or ride-sharing company to earn quick income from providing transportation or food delivery services.\\n\\n5. Online Surveys and Task Sites: Participate in online surveys or complete small tasks on platforms like Swagbucks, Amazon Mechanical Turk, or InboxDollars.\\n\\nRemember to prioritize safety and legality when considering these options, and make sure to carefully review the terms and conditions of any service you consider.\"},\n",
    "                {\"role\": \"user\",\n",
    "                 \"content\": [{\"type\": \"text\", \"text\": \"Can you jot down these platforms into my notebook? \"}]},\n",
    "                {\"role\": \"assistant\", \"content\": \"\", \"tool_calls\": [{\"id\": \"call_atwhcRFfvjUIYF4pRVKdtkqD\",\n",
    "                                                                     \"function\": {\n",
    "                                                                         \"arguments\": \"{\\\"content\\\":\\\"Quick Cash Ideas:\\\\n1. Sell Unused Items\\\\n2. Freelancing Platforms (Upwork, Freelancer, Fiverr)\\\\n3. Part-Time Gigs (Dog walking, pet sitting, tutoring)\\\\n4. Delivery or Ride-Sharing Services\\\\n5. Online Surveys and Task Sites (Swagbucks, Amazon Mechanical Turk, InboxDollars)\\\"}\",\n",
    "                                                                         \"name\": \"write_to_my_note\"},\n",
    "                                                                     \"type\": \"function\"}]},\n",
    "                {\"role\": \"tool\", \"content\": \"Successfully written to notebook.\",\n",
    "                 \"tool_call_id\": \"call_atwhcRFfvjUIYF4pRVKdtkqD\", \"name\": \"write_to_my_note\"}, {\"role\": \"assistant\",\n",
    "                                                                                                \"content\": \"I have jotted down the quick cash ideas and platforms in your notebook.\"},\n",
    "                {\"role\": \"user\", \"content\": [{\"type\": \"text\", \"text\": \"Thank you.\"}]},\n",
    "                {\"role\": \"assistant\", \"content\": \"You're welcome! If you need any more assistance, feel free to ask.\"},\n",
    "                {\"role\": \"user\", \"content\": [{\"type\": \"text\",\n",
    "                                              \"text\": \"Can you give me pome about programming and then jot down it to my notebook as well?\"}]},\n",
    "                {\"role\": \"assistant\", \"content\": \"\", \"tool_calls\": [{\"id\": \"call_rY2WbQLnvpmvG6yONICLdgeT\",\n",
    "                                                                     \"function\": {\n",
    "                                                                         \"arguments\": \"{\\\"content\\\":\\\"Programming-themed Poem:\\\\n\\\\nIn lines of code, our thoughts take form,\\\\nA language spoken by machines, the norm.\\\\nWith logic and structure, we build and create,\\\\nSolving problems and innovating at an incredible rate.\\\\n\\\\nFrom algorithms to functions, and loops that repeat,\\\\nProgramming is an art, an elegant feat.\\\\nDebugging and testing, the journey is long,\\\\nBut with each bug fixed, we grow wise and strong.\\\\n\\\\nThe programmer's canvas, a screen and keyboard,\\\\nCrafting solutions, ensuring they're flawlessly scored.\\\\nFor in the world of programming, we find our delight,\\\\nA symphony of characters, dancing in binary light.\\\"}\",\n",
    "                                                                         \"name\": \"write_to_my_note\"},\n",
    "                                                                     \"type\": \"function\"}]},\n",
    "                {\"role\": \"tool\", \"content\": \"Successfully written to notebook.\",\n",
    "                 \"tool_call_id\": \"call_rY2WbQLnvpmvG6yONICLdgeT\", \"name\": \"write_to_my_note\"}, {\"role\": \"assistant\",\n",
    "                                                                                                \"content\": \"Here's a programming-themed poem for you:\\n\\nIn lines of code, our thoughts take form,\\nA language spoken by machines, the norm.\\nWith logic and structure, we build and create,\\nSolving problems and innovating at an incredible rate.\\n\\nFrom algorithms to functions, and loops that repeat,\\nProgramming is an art, an elegant feat.\\nDebugging and testing, the journey is long,\\nBut with each bug fixed, we grow wise and strong.\\n\\nThe programmer's canvas, a screen and keyboard,\\nCrafting solutions, ensuring they're flawlessly scored.\\nFor in the world of programming, we find our delight,\\nA symphony of characters, dancing in binary light.\\n\\nI've also jotted down the poem in your notebook.\"}]"
   ],
   "metadata": {
    "collapsed": false,
    "ExecuteTime": {
     "end_time": "2023-11-13T03:26:40.224660Z",
     "start_time": "2023-11-13T03:26:40.208872Z"
    }
   },
   "id": "9abd886e2b7e19d1"
  },
  {
   "cell_type": "code",
   "execution_count": 8,
   "outputs": [],
   "source": [
    "system_message = {\"role\": \"system\",\n",
    "                  \"content\": \"Given these customer conversations, analyze and identify specific behavioral traits and communication preferences for this user. Highlight their preferred contact methods, responsiveness to different message types, and any particular interests. Use this analysis to create a detailed profile\"}"
   ],
   "metadata": {
    "collapsed": false,
    "ExecuteTime": {
     "end_time": "2023-11-13T03:29:14.405745Z",
     "start_time": "2023-11-13T03:29:14.400131Z"
    }
   },
   "id": "a605951d60b4ddda"
  },
  {
   "cell_type": "code",
   "execution_count": 5,
   "outputs": [],
   "source": [
    "messages = [system_message] + conversation"
   ],
   "metadata": {
    "collapsed": false,
    "ExecuteTime": {
     "end_time": "2023-11-13T03:26:40.242065Z",
     "start_time": "2023-11-13T03:26:40.223995Z"
    }
   },
   "id": "59ab18564bbcd1b0"
  },
  {
   "cell_type": "code",
   "execution_count": 9,
   "outputs": [],
   "source": [
    "response = send_to_gpt(messages)"
   ],
   "metadata": {
    "collapsed": false,
    "ExecuteTime": {
     "end_time": "2023-11-13T03:29:20.237772Z",
     "start_time": "2023-11-13T03:29:16.257493Z"
    }
   },
   "id": "6dd42d358be001c"
  },
  {
   "cell_type": "code",
   "execution_count": 10,
   "outputs": [
    {
     "data": {
      "text/plain": "\"Based on the interactions, the customer exhibits the following behavioral traits and communication preferences:\\n\\n1. Direct and Task-Oriented: The customer is focused on specific information and quick solutions, as seen in the inquiries about kids' activities, WinterFest details, and quick cash ideas.\\n\\n2. Preference for Written Communication: The customer prefers written communication, as evident from the request to jot down information in their notebook.\\n\\n3. Interest in Event Planning: The customer shows an interest in activities and events, particularly related to kids' parties and festive celebrations.\\n\\n4. Seeking Quick Solutions: The customer is seeking immediate solutions, as indicated by the request for quick cash ideas.\\n\\n5. Technology and Freelancing Interest: The customer is interested in technology-related information, such as programming and freelancing opportunities.\\n\\nConsidering these traits, the customer profile suggests a practical and task-focused individual with a preference for efficient written communication. They have a particular interest in event planning and technology-related opportunities, such as freelancing. This profile can help tailor future interactions to efficiently address the customer's needs and interests.\""
     },
     "execution_count": 10,
     "metadata": {},
     "output_type": "execute_result"
    }
   ],
   "source": [
    "response"
   ],
   "metadata": {
    "collapsed": false,
    "ExecuteTime": {
     "end_time": "2023-11-13T03:29:20.247158Z",
     "start_time": "2023-11-13T03:29:20.240395Z"
    }
   },
   "id": "d224d0924cbe1f79"
  },
  {
   "cell_type": "code",
   "execution_count": 14,
   "outputs": [],
   "source": [
    "def conversation_filter_func(c: dict) -> bool:\n",
    "    if c.get('role', None) not in ['user', 'assistant']:\n",
    "        return False\n",
    "\n",
    "    if c.get(\"role\") == \"assistant\" and c.get(\"tool_calls\"):\n",
    "        return False\n",
    "\n",
    "    return True\n",
    "\n",
    "\n",
    "filtered = list(filter(conversation_filter_func, conversation))"
   ],
   "metadata": {
    "collapsed": false,
    "ExecuteTime": {
     "end_time": "2023-11-13T06:41:20.226234Z",
     "start_time": "2023-11-13T06:41:20.218798Z"
    }
   },
   "id": "ac66cace2d1aefed"
  },
  {
   "cell_type": "code",
   "execution_count": 15,
   "outputs": [
    {
     "data": {
      "text/plain": "[{'role': 'user',\n  'content': [{'type': 'text', 'text': \"Any kids party in coming x'mas?\"}]},\n {'role': 'assistant',\n  'content': 'It seems that there are various kids activities and events in Hong Kong for Christmas 2023. Some possible activities include visiting Disneyland, watching performances such as The Nutcracker by the Hong Kong Ballet, exploring the WinterFest event at the West Kowloon Cultural District, and checking out activities at churches, hotels, and gourmet restaurants. Additionally, attractions such as Ocean Park, Ngong Ping 360, and the Hong Kong Cultural Centre often have special Christmas-themed events and decorations. Keep an eye on the official websites closer to the date for more information on specific activities and events.'},\n {'role': 'user',\n  'content': [{'type': 'text', 'text': 'tell me more about WinterFest'}]},\n {'role': 'assistant',\n  'content': \"WinterFest at the West Kowloon Cultural District in Hong Kong is a festive event that features a giant sparkling Christmas tree, whimsical displays, and colorful ornaments. There are various festive activities, exclusive menus, and themed tours available for visitors to enjoy. The event also includes live music performances, meeting Santa Claus, charity bazaars, and handicraft workshops. Additionally, the Hong Kong New Year Countdown Celebrations, with live performances and an enhanced edition of 'A Symphony of Lights', mark the end of the festivities. The event offers a perfect opportunity to soak in the holiday vibes and enjoy the stunning backdrop of Victoria Harbour.\"},\n {'role': 'user', 'content': [{'type': 'text', 'text': 'is it free?'}]},\n {'role': 'assistant',\n  'content': \"I couldn't find specific information about the ticket prices for WinterFest at the West Kowloon Cultural District. It is recommended to visit the official website of Hong Kong WinterFest or contact the Hong Kong Tourism Board for more information on ticket prices.\"},\n {'role': 'user',\n  'content': [{'type': 'text',\n    'text': 'okay can you give me it officail website?'}]},\n {'role': 'assistant',\n  'content': 'You can find more information about Hong Kong WinterFest on the official website of the Hong Kong Tourism Board: [Hong Kong WinterFest | Hong Kong Tourism Board](https://www.discoverhongkong.com/us/what-s-new/events/dhk-highlighted-events/hong-kong-winterfest.html)'},\n {'role': 'user',\n  'content': [{'type': 'text',\n    'text': 'how to find freelance job other then upwork'}]},\n {'role': 'assistant',\n  'content': \"Some alternative freelance job platforms to Upwork include:\\n\\n- Freelancer\\n- Guru\\n- Toptal\\n- PeoplePerHour\\n- Freelance Writing Gigs\\n- CrowdSPRING\\n- 99designs\\n- Fiverr\\n- Freelanced\\n- SimplyHired\\n\\nThese platforms offer a range of freelance job opportunities across different industries. It's important to research and compare each platform to find the best fit for your skills and preferences. Additionally, other platforms like CloudDevs, SolidGigs, and Hubstaff Talent are also popular alternatives for businesses and freelancers. Niche alternatives such as 99Designs, DesignCrowd, TextBroker, Gun.io, Toptal, Flexiple, SoundBetter, Melody Nest, and AirGigs cater specifically to design, content writing, development, and music industries. It is recommended to try out different platforms to find the best fit for your needs.\"},\n {'role': 'user',\n  'content': [{'type': 'text', 'text': 'I need some quick cash. Any idea?'}]},\n {'role': 'assistant',\n  'content': 'If you need some quick cash, here are a few ideas:\\n\\n1. Sell Unused Items: Consider selling items you no longer need or use. You can list them on online marketplaces or arrange a garage sale.\\n\\n2. Freelancing: Offer your skills and expertise as a freelancer on platforms like Upwork, Freelancer, or Fiverr to take on short-term projects.\\n\\n3. Part-Time Gigs: Look for part-time gigs such as dog walking, pet sitting, or tutoring that can help you earn some quick cash.\\n\\n4. Delivery or Ride-Sharing Services: Consider working for a delivery service or ride-sharing company to earn quick income from providing transportation or food delivery services.\\n\\n5. Online Surveys and Task Sites: Participate in online surveys or complete small tasks on platforms like Swagbucks, Amazon Mechanical Turk, or InboxDollars.\\n\\nRemember to prioritize safety and legality when considering these options, and make sure to carefully review the terms and conditions of any service you consider.'},\n {'role': 'user',\n  'content': [{'type': 'text',\n    'text': 'Can you jot down these platforms into my notebook? '}]},\n {'role': 'assistant',\n  'content': 'I have jotted down the quick cash ideas and platforms in your notebook.'},\n {'role': 'user', 'content': [{'type': 'text', 'text': 'Thank you.'}]},\n {'role': 'assistant',\n  'content': \"You're welcome! If you need any more assistance, feel free to ask.\"},\n {'role': 'user',\n  'content': [{'type': 'text',\n    'text': 'Can you give me pome about programming and then jot down it to my notebook as well?'}]},\n {'role': 'assistant',\n  'content': \"Here's a programming-themed poem for you:\\n\\nIn lines of code, our thoughts take form,\\nA language spoken by machines, the norm.\\nWith logic and structure, we build and create,\\nSolving problems and innovating at an incredible rate.\\n\\nFrom algorithms to functions, and loops that repeat,\\nProgramming is an art, an elegant feat.\\nDebugging and testing, the journey is long,\\nBut with each bug fixed, we grow wise and strong.\\n\\nThe programmer's canvas, a screen and keyboard,\\nCrafting solutions, ensuring they're flawlessly scored.\\nFor in the world of programming, we find our delight,\\nA symphony of characters, dancing in binary light.\\n\\nI've also jotted down the poem in your notebook.\"}]"
     },
     "execution_count": 15,
     "metadata": {},
     "output_type": "execute_result"
    }
   ],
   "source": [
    "filtered"
   ],
   "metadata": {
    "collapsed": false,
    "ExecuteTime": {
     "end_time": "2023-11-13T06:41:21.663172Z",
     "start_time": "2023-11-13T06:41:21.654357Z"
    }
   },
   "id": "7260e53862bfde34"
  },
  {
   "cell_type": "code",
   "execution_count": 16,
   "outputs": [
    {
     "name": "stdout",
     "output_type": "stream",
     "text": [
      "Collecting sounddevice\r\n",
      "  Downloading sounddevice-0.4.6-py3-none-macosx_10_6_x86_64.macosx_10_6_universal2.whl (107 kB)\r\n",
      "\u001B[2K     \u001B[90m━━━━━━━━━━━━━━━━━━━━━━━━━━━━━━━━━━━━━\u001B[0m \u001B[32m108.0/108.0 kB\u001B[0m \u001B[31m183.8 kB/s\u001B[0m eta \u001B[36m0:00:00\u001B[0ma \u001B[36m0:00:01\u001B[0m\r\n",
      "\u001B[?25hRequirement already satisfied: CFFI>=1.0 in /Users/xavierau/opt/anaconda3/envs/langchain/lib/python3.10/site-packages (from sounddevice) (1.15.1)\r\n",
      "Requirement already satisfied: pycparser in /Users/xavierau/opt/anaconda3/envs/langchain/lib/python3.10/site-packages (from CFFI>=1.0->sounddevice) (2.21)\r\n",
      "Installing collected packages: sounddevice\r\n",
      "Successfully installed sounddevice-0.4.6\r\n"
     ]
    }
   ],
   "source": [
    "!pip install sounddevice"
   ],
   "metadata": {
    "collapsed": false,
    "ExecuteTime": {
     "end_time": "2023-11-13T12:31:50.767393Z",
     "start_time": "2023-11-13T12:31:40.403536Z"
    }
   },
   "id": "5448cfe7ac3f4491"
  },
  {
   "cell_type": "code",
   "execution_count": 20,
   "outputs": [],
   "source": [
    "import sounddevice as sd\n",
    "from scipy.io.wavfile import write\n",
    "\n",
    "fs = 44100  # Sample rate\n",
    "seconds = 3  # Duration of recording\n",
    "\n",
    "myrecording = sd.rec(int(seconds * fs), samplerate=fs, channels=1)\n",
    "sd.wait()  # Wait until recording is finished\n",
    "write('output.wav', fs, myrecording)  # Save as WAV file"
   ],
   "metadata": {
    "collapsed": false,
    "ExecuteTime": {
     "end_time": "2023-11-13T12:47:11.398226Z",
     "start_time": "2023-11-13T12:47:08.112443Z"
    }
   },
   "id": "de3e973ad3427cd7"
  },
  {
   "cell_type": "code",
   "execution_count": 21,
   "outputs": [],
   "source": [
    "from openai import OpenAI\n",
    "client = OpenAI()\n",
    "\n",
    "audio_file= open(\"output.wav\", \"rb\")\n",
    "transcript = client.audio.transcriptions.create(\n",
    "  model=\"whisper-1\", \n",
    "  file=audio_file\n",
    ")"
   ],
   "metadata": {
    "collapsed": false,
    "ExecuteTime": {
     "end_time": "2023-11-13T12:47:29.550136Z",
     "start_time": "2023-11-13T12:47:27.536816Z"
    }
   },
   "id": "4d7a01aefd8ebed0"
  },
  {
   "cell_type": "code",
   "execution_count": 22,
   "outputs": [
    {
     "data": {
      "text/plain": "Transcription(text='Testing, testing, one, two, three.')"
     },
     "execution_count": 22,
     "metadata": {},
     "output_type": "execute_result"
    }
   ],
   "source": [
    "transcript"
   ],
   "metadata": {
    "collapsed": false,
    "ExecuteTime": {
     "end_time": "2023-11-13T12:47:34.317916Z",
     "start_time": "2023-11-13T12:47:34.312556Z"
    }
   },
   "id": "832ea51098aba1fb"
  }
 ],
 "metadata": {
  "kernelspec": {
   "display_name": "Python 3",
   "language": "python",
   "name": "python3"
  },
  "language_info": {
   "codemirror_mode": {
    "name": "ipython",
    "version": 2
   },
   "file_extension": ".py",
   "mimetype": "text/x-python",
   "name": "python",
   "nbconvert_exporter": "python",
   "pygments_lexer": "ipython2",
   "version": "2.7.6"
  }
 },
 "nbformat": 4,
 "nbformat_minor": 5
}
