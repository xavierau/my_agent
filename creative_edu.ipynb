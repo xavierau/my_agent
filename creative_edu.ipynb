{
 "cells": [
  {
   "cell_type": "code",
   "execution_count": 1,
   "id": "initial_id",
   "metadata": {
    "collapsed": true,
    "ExecuteTime": {
     "end_time": "2023-11-09T01:48:13.113710Z",
     "start_time": "2023-11-09T01:48:12.709001Z"
    }
   },
   "outputs": [],
   "source": [
    "from langchain.document_loaders import UnstructuredURLLoader"
   ]
  },
  {
   "cell_type": "code",
   "execution_count": 2,
   "outputs": [],
   "source": [
    "loader = UnstructuredURLLoader(\n",
    "    urls=[\"https://creative.edu.hk\"], mode=\"elements\", strategy=\"fast\",\n",
    ")\n",
    "docs = loader.load()"
   ],
   "metadata": {
    "collapsed": false,
    "ExecuteTime": {
     "end_time": "2023-11-09T01:48:19.116351Z",
     "start_time": "2023-11-09T01:48:13.113417Z"
    }
   },
   "id": "5410e62d0c6f8695"
  },
  {
   "cell_type": "code",
   "execution_count": 4,
   "outputs": [
    {
     "data": {
      "text/plain": "69"
     },
     "execution_count": 4,
     "metadata": {},
     "output_type": "execute_result"
    }
   ],
   "source": [
    "len(docs)"
   ],
   "metadata": {
    "collapsed": false,
    "ExecuteTime": {
     "end_time": "2023-11-09T01:48:26.562888Z",
     "start_time": "2023-11-09T01:48:26.554620Z"
    }
   },
   "id": "d3f5d6caffab2043"
  },
  {
   "cell_type": "code",
   "execution_count": 5,
   "outputs": [
    {
     "name": "stdout",
     "output_type": "stream",
     "text": [
      "page_content='Skip to content' metadata={'filetype': 'text/html', 'languages': ['kor'], 'page_number': 1, 'url': 'https://creative.edu.hk', 'link_urls': ['#content'], 'link_texts': [' Skip to content'], 'category': 'NarrativeText'}\n"
     ]
    }
   ],
   "source": [
    "print(docs[0])"
   ],
   "metadata": {
    "collapsed": false,
    "ExecuteTime": {
     "end_time": "2023-11-09T01:49:00.009693Z",
     "start_time": "2023-11-09T01:49:00.001744Z"
    }
   },
   "id": "b3700cee2f72816d"
  },
  {
   "cell_type": "code",
   "execution_count": 6,
   "outputs": [
    {
     "name": "stdout",
     "output_type": "stream",
     "text": [
      "NarrativeText\n",
      "Title\n",
      "Title\n",
      "Title\n",
      "ListItem\n",
      "ListItem\n",
      "Title\n",
      "ListItem\n",
      "ListItem\n",
      "ListItem\n",
      "ListItem\n",
      "ListItem\n",
      "ListItem\n",
      "ListItem\n",
      "ListItem\n",
      "Title\n",
      "ListItem\n",
      "ListItem\n",
      "ListItem\n",
      "ListItem\n",
      "ListItem\n",
      "ListItem\n",
      "ListItem\n",
      "ListItem\n",
      "Title\n",
      "ListItem\n",
      "ListItem\n",
      "ListItem\n",
      "ListItem\n",
      "ListItem\n",
      "ListItem\n",
      "ListItem\n",
      "ListItem\n",
      "Title\n",
      "ListItem\n",
      "ListItem\n",
      "ListItem\n",
      "ListItem\n",
      "ListItem\n",
      "ListItem\n",
      "Title\n",
      "Title\n",
      "Title\n",
      "Title\n",
      "Title\n",
      "Title\n",
      "Title\n",
      "Title\n",
      "ListItem\n",
      "Title\n",
      "ListItem\n",
      "Title\n",
      "ListItem\n",
      "Title\n",
      "Title\n",
      "Title\n",
      "Title\n",
      "Title\n",
      "Title\n",
      "Title\n",
      "Title\n",
      "Title\n",
      "Title\n",
      "UncategorizedText\n",
      "Title\n",
      "Title\n",
      "Title\n",
      "Title\n",
      "UncategorizedText\n"
     ]
    }
   ],
   "source": [
    "for doc in docs:\n",
    "    print(doc.metadata.get(\"category\"))"
   ],
   "metadata": {
    "collapsed": false,
    "ExecuteTime": {
     "end_time": "2023-11-09T01:49:38.846017Z",
     "start_time": "2023-11-09T01:49:38.841704Z"
    }
   },
   "id": "352a4b27123a0c97"
  },
  {
   "cell_type": "code",
   "execution_count": 8,
   "outputs": [
    {
     "name": "stdout",
     "output_type": "stream",
     "text": [
      "Facebook-f\n",
      "Instagram\n",
      "Youtube\n",
      "Menu\n",
      "Menu\n",
      "Menu\n",
      "Menu\n",
      "Previous\n",
      "Next\n",
      "啟思課程\n",
      "啟思分校\n",
      "豐碩成果\n",
      "入學申請\n",
      "校園動態\n",
      "繼續閱讀▼\n",
      "中華文化校本學校活動\n",
      "父親節小驚喜\n",
      "益力多工場奇遇記\n",
      "啟思的優勢\n",
      "建設性的鑰匙，啟發孩子的思想。打開讀書之門，幫助孩子快樂地學習。\n",
      "Facebook-f\n",
      "Instagram\n",
      "Youtube\n",
      "相關連結​\n",
      "網站地圖​​\n",
      "聯絡我們​\n",
      "© 2023 啟思幼稚園幼兒園 版權所有\n",
      "立即報名參加「我和啟思有個約會」之文化體驗開放日\n",
      "點擊前往\n",
      "啟思各分校接受2024至2025年度新生入學申請\n",
      "立即報名\n"
     ]
    }
   ],
   "source": [
    "# Show all titles\n",
    "for doc in docs:\n",
    "    if doc.metadata.get('category') == 'Title':\n",
    "        print(doc.page_content)"
   ],
   "metadata": {
    "collapsed": false,
    "ExecuteTime": {
     "end_time": "2023-11-09T01:52:33.257365Z",
     "start_time": "2023-11-09T01:52:33.250809Z"
    }
   },
   "id": "b495dab2fee068a5"
  },
  {
   "cell_type": "code",
   "execution_count": 9,
   "outputs": [
    {
     "name": "stdout",
     "output_type": "stream",
     "text": [
      "Skip to content\n"
     ]
    }
   ],
   "source": [
    "# Show all NarrativeText\n",
    "for doc in docs:\n",
    "    if doc.metadata.get('category') == 'NarrativeText':\n",
    "        print(doc.page_content)\n",
    "        "
   ],
   "metadata": {
    "collapsed": false,
    "ExecuteTime": {
     "end_time": "2023-11-09T01:53:30.085635Z",
     "start_time": "2023-11-09T01:53:30.079829Z"
    }
   },
   "id": "54375868cb1cb7c5"
  }
 ],
 "metadata": {
  "kernelspec": {
   "display_name": "Python 3",
   "language": "python",
   "name": "python3"
  },
  "language_info": {
   "codemirror_mode": {
    "name": "ipython",
    "version": 2
   },
   "file_extension": ".py",
   "mimetype": "text/x-python",
   "name": "python",
   "nbconvert_exporter": "python",
   "pygments_lexer": "ipython2",
   "version": "2.7.6"
  }
 },
 "nbformat": 4,
 "nbformat_minor": 5
}
