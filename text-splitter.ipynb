{
 "cells": [
  {
   "cell_type": "code",
   "execution_count": 1,
   "id": "initial_id",
   "metadata": {
    "collapsed": true,
    "ExecuteTime": {
     "end_time": "2023-11-13T02:02:04.717069Z",
     "start_time": "2023-11-13T02:02:04.510312Z"
    }
   },
   "outputs": [],
   "source": [
    "from langchain.text_splitter import CharacterTextSplitter"
   ]
  },
  {
   "cell_type": "code",
   "execution_count": 13,
   "outputs": [],
   "source": [
    "text_splitter = CharacterTextSplitter(\n",
    "    separator = \"\\n\\n\",\n",
    "    chunk_size = 100,\n",
    "    chunk_overlap  = 0,\n",
    "    length_function = len,\n",
    "    is_separator_regex = False,\n",
    ")\n"
   ],
   "metadata": {
    "collapsed": false,
    "ExecuteTime": {
     "end_time": "2023-11-13T02:03:19.016488Z",
     "start_time": "2023-11-13T02:03:19.009752Z"
    }
   },
   "id": "d7b6fe10a8974711"
  },
  {
   "cell_type": "code",
   "execution_count": 14,
   "outputs": [],
   "source": [
    "text= \"\"\"Question: THis is the first question\n",
    "Answer: This is the answer to the first question\n",
    "\n",
    "Question: THis is the second question\n",
    "Answer: This is the answer to the second question\"\"\""
   ],
   "metadata": {
    "collapsed": false,
    "ExecuteTime": {
     "end_time": "2023-11-13T02:03:20.037920Z",
     "start_time": "2023-11-13T02:03:20.034796Z"
    }
   },
   "id": "1f2a61141739c9de"
  },
  {
   "cell_type": "code",
   "execution_count": 17,
   "outputs": [],
   "source": [
    "texts = text.split('\\n\\n')"
   ],
   "metadata": {
    "collapsed": false,
    "ExecuteTime": {
     "end_time": "2023-11-13T02:04:44.946741Z",
     "start_time": "2023-11-13T02:04:44.942009Z"
    }
   },
   "id": "e9ee926cafa89a97"
  },
  {
   "cell_type": "code",
   "execution_count": 18,
   "outputs": [
    {
     "data": {
      "text/plain": "['Question: THis is the first question\\nAnswer: This is the answer to the first question',\n 'Question: THis is the second question\\nAnswer: This is the answer to the second question']"
     },
     "execution_count": 18,
     "metadata": {},
     "output_type": "execute_result"
    }
   ],
   "source": [
    "texts"
   ],
   "metadata": {
    "collapsed": false,
    "ExecuteTime": {
     "end_time": "2023-11-13T02:04:46.103896Z",
     "start_time": "2023-11-13T02:04:46.099733Z"
    }
   },
   "id": "7328c9eee0d7538a"
  }
 ],
 "metadata": {
  "kernelspec": {
   "display_name": "Python 3",
   "language": "python",
   "name": "python3"
  },
  "language_info": {
   "codemirror_mode": {
    "name": "ipython",
    "version": 2
   },
   "file_extension": ".py",
   "mimetype": "text/x-python",
   "name": "python",
   "nbconvert_exporter": "python",
   "pygments_lexer": "ipython2",
   "version": "2.7.6"
  }
 },
 "nbformat": 4,
 "nbformat_minor": 5
}
