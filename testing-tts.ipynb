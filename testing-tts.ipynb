{
 "cells": [
  {
   "cell_type": "code",
   "execution_count": 2,
   "id": "initial_id",
   "metadata": {
    "collapsed": true,
    "ExecuteTime": {
     "end_time": "2023-11-11T07:28:44.220672Z",
     "start_time": "2023-11-11T07:28:43.616773Z"
    }
   },
   "outputs": [
    {
     "data": {
      "text/plain": "True"
     },
     "execution_count": 2,
     "metadata": {},
     "output_type": "execute_result"
    }
   ],
   "source": [
    "import json\n",
    "from datetime import datetime\n",
    "from openai import OpenAI\n",
    "from playsound import playsound\n",
    "from PIL import Image\n",
    "from urllib.parse import urlparse\n",
    "from urllib.request import urlopen\n",
    "from IPython.display import Image\n",
    "from IPython.core.display import HTML\n",
    "\n",
    "from os.path import exists\n",
    "import dotenv\n",
    "\n",
    "dotenv.load_dotenv()"
   ]
  },
  {
   "cell_type": "code",
   "execution_count": 2,
   "outputs": [],
   "source": [
    "client = OpenAI()"
   ],
   "metadata": {
    "collapsed": false,
    "ExecuteTime": {
     "end_time": "2023-11-10T10:35:40.695485Z",
     "start_time": "2023-11-10T10:35:40.683431Z"
    }
   },
   "id": "e3afaf22171d8f41"
  },
  {
   "cell_type": "code",
   "execution_count": 3,
   "outputs": [],
   "source": [
    "messages = []"
   ],
   "metadata": {
    "collapsed": false,
    "ExecuteTime": {
     "end_time": "2023-11-10T10:35:40.700687Z",
     "start_time": "2023-11-10T10:35:40.695789Z"
    }
   },
   "id": "6410bc71c54da286"
  },
  {
   "cell_type": "code",
   "execution_count": 4,
   "outputs": [],
   "source": [
    "from carparks.types import Point\n",
    "\n",
    "\n",
    "# def get_tools():\n",
    "#     \"\"\"Get the list of tools that can be used in the chatbot\"\"\"\n",
    "#     return [\n",
    "#         {\n",
    "#             \"type\": \"function\",\n",
    "#             \"function\": {\n",
    "#                 \"name\": \"get_current_date_and_time\",\n",
    "#                 \"description\": \"Get the current date and time\",\n",
    "#                 \"parameters\": {\n",
    "#                     \"type\": \"object\",\n",
    "#                     \"properties\": {},\n",
    "#                 },\n",
    "#             }\n",
    "#         },\n",
    "#         {\n",
    "#             \"type\": \"function\",\n",
    "#             \"function\": {\n",
    "#                 \"name\": \"create_image\",\n",
    "#                 \"description\": \"Create an image from a prompt\",\n",
    "#                 \"parameters\": {\n",
    "#                     \"type\": \"object\",\n",
    "#                     \"properties\": {\n",
    "#                         \"prompt\": {\n",
    "#                             \"type\": \"string\",\n",
    "#                             \"description\": \"The prompt to use to generate the image\",\n",
    "#                         },\n",
    "#                     },\n",
    "#                 },\n",
    "#             }\n",
    "#         },\n",
    "#     ]\n",
    "def get_tools():\n",
    "    \"\"\"Get the list of tools that can be used in the chatbot\"\"\"\n",
    "    return [\n",
    "        # {\n",
    "        #     \"type\": \"function\",\n",
    "        #     \"function\": {\n",
    "        #         \"name\": \"get_current_location\",\n",
    "        #         \"description\": \"Get current location latitude and longitude\",\n",
    "        #         \"parameters\": {\n",
    "        #             \"type\": \"object\",\n",
    "        #             \"properties\": {\n",
    "        #                 \"address\": {\n",
    "        #                     \"type\": \"string\",\n",
    "        #                     \"description\": \"The address to get the latitude and longitude\",\n",
    "        #                     \"default\":\"Siu Sai Wan, Hong Kong\"\n",
    "        #                 }\n",
    "        #             },\n",
    "        #             \"required\": [\"address\"]\n",
    "        #         },\n",
    "        #     }\n",
    "        # },\n",
    "        {\n",
    "            \"type\": \"function\",\n",
    "            \"function\": {\n",
    "                \"name\": \"get_nearest_car_parks\",\n",
    "                \"description\": \"Fetch car parks base on a set of criteria\",\n",
    "                \"parameters\": {\n",
    "                    \"type\": \"object\",\n",
    "                    \"properties\": {\n",
    "                        \"current_location\": {\n",
    "                            \"type\": \"object\",\n",
    "                            \"description\": \"The current location latitude and longitude\",\n",
    "                            \"properties\": {\n",
    "                                \"latitude\": {\n",
    "                                    \"type\": \"number\",\n",
    "                                    \"description\": \"The latitude of the current location\",\n",
    "                                    \"default\": 22.261515,\n",
    "                                },\n",
    "                                \"longitude\": {\n",
    "                                    \"type\": \"number\",\n",
    "                                    \"description\": \"The longitude of the current location\",\n",
    "                                    \"default\": 114.249452\n",
    "                                },\n",
    "                            },\n",
    "                            \"required\": [\"latitude\", \"longitude\"]\n",
    "                        }\n",
    "\n",
    "                    },\n",
    "                    \"required\": [\"current_location\"]\n",
    "                },\n",
    "            },\n",
    "        }\n",
    "    ]"
   ],
   "metadata": {
    "collapsed": false,
    "ExecuteTime": {
     "end_time": "2023-11-10T10:35:40.730247Z",
     "start_time": "2023-11-10T10:35:40.700129Z"
    }
   },
   "id": "e6e778082eee12ae"
  },
  {
   "cell_type": "code",
   "execution_count": 5,
   "outputs": [],
   "source": [
    "def get_current_date_and_time(args):\n",
    "    return datetime.now().strftime(\"%b-%d-%Y %H:%M:%S, %A\")\n",
    "\n",
    "\n",
    "def create_image_wrapper(args):\n",
    "    return create_image(args[\"prompt\"])"
   ],
   "metadata": {
    "collapsed": false,
    "ExecuteTime": {
     "end_time": "2023-11-10T10:35:40.737321Z",
     "start_time": "2023-11-10T10:35:40.709698Z"
    }
   },
   "id": "232cc0856c721743"
  },
  {
   "cell_type": "code",
   "execution_count": 6,
   "outputs": [],
   "source": [
    "\n",
    "\n",
    "def speak(message, ):\n",
    "    speech_file_path = \"./speech.mp3\"\n",
    "    client.audio.speech.create(\n",
    "        model=\"tts-1\",\n",
    "        voice=\"alloy\",\n",
    "        input=message\n",
    "    ).stream_to_file(speech_file_path)\n",
    "    playsound(speech_file_path)"
   ],
   "metadata": {
    "collapsed": false,
    "ExecuteTime": {
     "end_time": "2023-11-10T10:35:40.737532Z",
     "start_time": "2023-11-10T10:35:40.711314Z"
    }
   },
   "id": "21acc01ca8b8d89e"
  },
  {
   "cell_type": "code",
   "execution_count": 7,
   "outputs": [],
   "source": [
    "def resize_image(image_url):\n",
    "    threshold = 255\n",
    "    image = Image.open(image_url if is_local(image_url) else urlopen(image_url))\n",
    "    width, height = image.size\n",
    "    if width > threshold or height > threshold:\n",
    "        if width > height:\n",
    "            new_width = threshold\n",
    "            new_height = int(height * threshold / width)\n",
    "        else:\n",
    "            new_height = threshold\n",
    "            new_width = int(width * threshold / height)\n",
    "\n",
    "        resized_image = image.resize((new_width, new_height))\n",
    "        resized_image.save('./resized_image.jpg')\n",
    "        return './resized_image.jpg'"
   ],
   "metadata": {
    "collapsed": false,
    "ExecuteTime": {
     "end_time": "2023-11-10T10:35:40.737592Z",
     "start_time": "2023-11-10T10:35:40.714753Z"
    }
   },
   "id": "ad97f4e1dfd97ec"
  },
  {
   "cell_type": "code",
   "execution_count": 8,
   "outputs": [],
   "source": [
    "def is_local(url):\n",
    "    url_parsed = urlparse(url)\n",
    "    if url_parsed.scheme in ('file', ''):  # Possibly a local file\n",
    "        return exists(url_parsed.path)\n",
    "    return False"
   ],
   "metadata": {
    "collapsed": false,
    "ExecuteTime": {
     "end_time": "2023-11-10T10:35:40.737918Z",
     "start_time": "2023-11-10T10:35:40.717242Z"
    }
   },
   "id": "e56a5dbf9b34fc86"
  },
  {
   "cell_type": "code",
   "execution_count": 9,
   "outputs": [],
   "source": [
    "def get_current_location(args):\n",
    "    return json.dumps({\n",
    "        \"address\": \"Siu Sai Wan, Hong Kong\",\n",
    "        \"location\": {\n",
    "            \"latitude\": 22.261515,\n",
    "            \"longitude\": 114.249452\n",
    "        }\n",
    "    })"
   ],
   "metadata": {
    "collapsed": false,
    "ExecuteTime": {
     "end_time": "2023-11-10T10:35:40.738151Z",
     "start_time": "2023-11-10T10:35:40.720203Z"
    }
   },
   "id": "926c9b9e9d42e128"
  },
  {
   "cell_type": "code",
   "execution_count": 10,
   "outputs": [
    {
     "name": "stdout",
     "output_type": "stream",
     "text": [
      "968853.5466871759\n"
     ]
    }
   ],
   "source": [
    "from utils import load_data_from_file, calculate_distance\n",
    "\n",
    "\n",
    "def get_nearest_car_parks(args):\n",
    "    print('args', args)\n",
    "\n",
    "    current_point = Point(lat=args['current_location']['latitude'], lng=args['current_location']['longitude'])\n",
    "    carparks = load_data_from_file('./carparks/hk.json')\n",
    "\n",
    "    selected_car_parks = []\n",
    "\n",
    "    for carpark in carparks:\n",
    "        carpark_point = Point(lat=carpark['geocoding']['geometry']['location']['lat'],\n",
    "                              lng=carpark['geocoding']['geometry']['location']['lng'])\n",
    "        distance = calculate_distance(current_point, carpark_point)\n",
    "        selected_car_parks.append({\n",
    "            \"name\": carpark[\"name\"],\n",
    "            \"address\": carpark[\"address\"],\n",
    "            \"distance\": distance,\n",
    "        })\n",
    "\n",
    "    selected_car_parks.sort(key=lambda x: x['distance'])\n",
    "\n",
    "    return json.dumps(selected_car_parks[:5])\n",
    "\n",
    "\n",
    "\n"
   ],
   "metadata": {
    "collapsed": false,
    "ExecuteTime": {
     "end_time": "2023-11-10T10:35:40.738279Z",
     "start_time": "2023-11-10T10:35:40.723725Z"
    }
   },
   "id": "429e4f0d3c96c632"
  },
  {
   "cell_type": "code",
   "execution_count": 11,
   "outputs": [],
   "source": [
    "# def get_available_functions():\n",
    "#     return {\n",
    "#         \"get_current_date_and_time\": get_current_date_and_time,\n",
    "#         \"create_image\": create_image_wrapper,\n",
    "#     }\n",
    "\n",
    "def get_available_functions():\n",
    "    return {\n",
    "        # \"get_current_location\": get_current_location,\n",
    "        \"get_nearest_car_parks\": get_nearest_car_parks,\n",
    "    }"
   ],
   "metadata": {
    "collapsed": false,
    "ExecuteTime": {
     "end_time": "2023-11-10T10:35:40.738312Z",
     "start_time": "2023-11-10T10:35:40.726874Z"
    }
   },
   "id": "dc4c7cbacab4835f"
  },
  {
   "cell_type": "code",
   "execution_count": 12,
   "outputs": [],
   "source": [
    "def ask(message: str, image_url=None):\n",
    "    model = \"gpt-4-1106-preview\"\n",
    "    # model = \"gpt-4-1106-preview\" if image_url is None else \"gpt-4-vision-preview\"\n",
    "\n",
    "    user_message = {\n",
    "        \"role\": \"user\",\n",
    "        \"content\": message,\n",
    "    } if image_url is None else {\n",
    "        \"role\": \"user\",\n",
    "        \"content\": [\n",
    "            {\"type\": \"text\", \"text\": message},\n",
    "            {\"type\": \"image_url\", \"image_url\": {\"url\": image_url}},\n",
    "        ],\n",
    "    }\n",
    "\n",
    "    print(model, user_message)\n",
    "\n",
    "    messages.append(user_message)\n",
    "    response = client.chat.completions.create(\n",
    "        model=\"gpt-3.5-turbo-1106\",\n",
    "        messages=messages,\n",
    "        tools=get_tools(),\n",
    "        tool_choice=\"auto\")\n",
    "\n",
    "    response_message = response.choices[0].message\n",
    "\n",
    "    tool_calls = response_message.tool_calls\n",
    "\n",
    "    if tool_calls:\n",
    "        available_functions = get_available_functions()  #\n",
    "\n",
    "        # {'content': None, 'role': 'assistant', 'function_call': None, 'tool_calls': [ChatCompletionMessageToolCall(id='call_Pds6T6VQ7WH6CZG478GlhHkx', function=Function(arguments='{}', name='get_current_date_and_time'), type='function')]}\n",
    "\n",
    "        messages.append({\n",
    "            \"content\": None,\n",
    "            \"role\": \"assistant\",\n",
    "            \"tool_calls\": [{\"id\": call.id, \"function\": call.function.__dict__, \"type\": call.type} for call in\n",
    "                           tool_calls],\n",
    "        })\n",
    "\n",
    "        for tool_call in tool_calls:\n",
    "            function_name = tool_call.function.name\n",
    "            function_to_call = available_functions[function_name]\n",
    "            function_args = json.loads(tool_call.function.arguments)\n",
    "            function_response = function_to_call(function_args)\n",
    "\n",
    "            print('function_response', function_response)\n",
    "\n",
    "            messages.append(\n",
    "                {\n",
    "                    \"tool_call_id\": tool_call.id,\n",
    "                    \"role\": \"tool\",\n",
    "                    \"name\": function_name,\n",
    "                    \"content\": function_response,\n",
    "                }\n",
    "            )\n",
    "\n",
    "            print('messages', messages)\n",
    "        reply_response = client.chat.completions.create(\n",
    "            model=\"gpt-3.5-turbo-1106\",\n",
    "            messages=messages,\n",
    "        )\n",
    "        reply_message = reply_response.choices[0].message.content\n",
    "    else:\n",
    "        reply_message = response.choices[0].message.content\n",
    "\n",
    "    messages.append({\n",
    "        \"role\": \"assistant\",\n",
    "        \"content\": reply_message,\n",
    "    })\n",
    "    print(reply_message)\n",
    "\n",
    "    # speak(reply_message)"
   ],
   "metadata": {
    "collapsed": false,
    "ExecuteTime": {
     "end_time": "2023-11-10T10:35:40.738615Z",
     "start_time": "2023-11-10T10:35:40.732940Z"
    }
   },
   "id": "ae249ec59e4b5689"
  },
  {
   "cell_type": "code",
   "execution_count": 13,
   "outputs": [],
   "source": [
    "def create_image(prompt: str):\n",
    "    \"\"\"Using DALL-E 3 to create image from prompt. And return the image url\"\"\"\n",
    "    response = client.images.generate(\n",
    "        model=\"dall-e-3\",\n",
    "        prompt=prompt,\n",
    "        size=\"1024x1024\",\n",
    "        quality=\"standard\",\n",
    "        n=1,\n",
    "    )\n",
    "\n",
    "    print(\"response\", response.data[0].revised_prompt)\n",
    "\n",
    "    image_url = response.data[0].url\n",
    "\n",
    "    print(\"image_url\", image_url)\n",
    "\n",
    "    Image(url=image_url)\n",
    "\n",
    "    return f\"Created image can be found with the following image: {image_url}\"\n"
   ],
   "metadata": {
    "collapsed": false,
    "ExecuteTime": {
     "end_time": "2023-11-10T10:35:40.740215Z",
     "start_time": "2023-11-10T10:35:40.736408Z"
    }
   },
   "id": "6eda5276529381c7"
  },
  {
   "cell_type": "code",
   "execution_count": 14,
   "outputs": [
    {
     "name": "stdout",
     "output_type": "stream",
     "text": [
      "gpt-4-1106-preview {'role': 'user', 'content': 'Can you give me the addresses of the top 2 closest car park?'}\n",
      "args {'current_location': {'latitude': 22.261515, 'longitude': 114.249452}}\n",
      "function_response [{\"name\": \"\\u5c0f\\u897f\\u7063\\u90a8\\u4e00\\u671f\\u505c\\u8eca\\u5834 Siu Sai Wan Estate Phase 1 (\\u5c0f\\u897f\\u7063\\u5ee3\\u5834 Siu Sai Wan Plaza)\", \"address\": \"\\u9999\\u6e2f\\u5c0f\\u897f\\u7063\\u5c0f\\u897f\\u7063\\u905310\\u865f\", \"distance\": 142.4542245544509}, {\"name\": \"\\u5c0f\\u897f\\u7063\\u90a8\\u4e09\\u671f\\u505c\\u8eca\\u5834 Siu Sai Wan Estate Phase 3\", \"address\": \"\\u9999\\u6e2f\\u5c0f\\u897f\\u7063\\u5c0f\\u897f\\u7063\\u905310\\u865f\", \"distance\": 142.4542245544509}, {\"name\": \"\\u85cd\\u7063\\u5ee3\\u5834\\u505c\\u8eca\\u5834 Island Resort Mall (\\u85cd\\u7063\\u534a\\u5cf6 Island Resort)\", \"address\": \"\\u9999\\u6e2f\\u67f4\\u7063\\u5c0f\\u897f\\u7063\\u905328\\u865f\", \"distance\": 555.6050739713276}, {\"name\": \"\\u5b89\\u529b\\u5de5\\u696d\\u4e2d\\u5fc3\\u505c\\u8eca\\u5834 Honour Industrial Centre\", \"address\": \"\\u9999\\u6e2f\\u67f4\\u7063\\u65b0\\u696d\\u88576\\u865f\", \"distance\": 575.420904084764}, {\"name\": \"8\\u865f\\u5546\\u696d\\u5ee3\\u5834\\u505c\\u8eca\\u5834 8 Commercial Tower\", \"address\": \"\\u9999\\u6e2f\\u67f4\\u7063\\u65b0\\u696d\\u88578\\u865f\", \"distance\": 647.7525204006041}]\n",
      "messages [{'role': 'user', 'content': 'Can you give me the addresses of the top 2 closest car park?'}, {'content': None, 'role': 'assistant', 'tool_calls': [{'id': 'call_7xbA81alDUGZA7bt6MSRX1Mp', 'function': {'arguments': '{\"current_location\": {\"latitude\": 22.261515, \"longitude\": 114.249452}}', 'name': 'get_nearest_car_parks'}, 'type': 'function'}, {'id': 'call_DWQHYdO4U8wk4jUwe4HS8pfE', 'function': {'arguments': '{\"current_location\": {\"latitude\": 22.261515, \"longitude\": 114.249452}}', 'name': 'get_nearest_car_parks'}, 'type': 'function'}, {'id': 'call_PYx4CMLE17gC1VKD7eemcKA0', 'function': {'arguments': '{\"current_location\": {\"latitude\": 22.261515, \"longitude\": 114.249452}}', 'name': 'get_nearest_car_parks'}, 'type': 'function'}]}, {'tool_call_id': 'call_7xbA81alDUGZA7bt6MSRX1Mp', 'role': 'tool', 'name': 'get_nearest_car_parks', 'content': '[{\"name\": \"\\\\u5c0f\\\\u897f\\\\u7063\\\\u90a8\\\\u4e00\\\\u671f\\\\u505c\\\\u8eca\\\\u5834 Siu Sai Wan Estate Phase 1 (\\\\u5c0f\\\\u897f\\\\u7063\\\\u5ee3\\\\u5834 Siu Sai Wan Plaza)\", \"address\": \"\\\\u9999\\\\u6e2f\\\\u5c0f\\\\u897f\\\\u7063\\\\u5c0f\\\\u897f\\\\u7063\\\\u905310\\\\u865f\", \"distance\": 142.4542245544509}, {\"name\": \"\\\\u5c0f\\\\u897f\\\\u7063\\\\u90a8\\\\u4e09\\\\u671f\\\\u505c\\\\u8eca\\\\u5834 Siu Sai Wan Estate Phase 3\", \"address\": \"\\\\u9999\\\\u6e2f\\\\u5c0f\\\\u897f\\\\u7063\\\\u5c0f\\\\u897f\\\\u7063\\\\u905310\\\\u865f\", \"distance\": 142.4542245544509}, {\"name\": \"\\\\u85cd\\\\u7063\\\\u5ee3\\\\u5834\\\\u505c\\\\u8eca\\\\u5834 Island Resort Mall (\\\\u85cd\\\\u7063\\\\u534a\\\\u5cf6 Island Resort)\", \"address\": \"\\\\u9999\\\\u6e2f\\\\u67f4\\\\u7063\\\\u5c0f\\\\u897f\\\\u7063\\\\u905328\\\\u865f\", \"distance\": 555.6050739713276}, {\"name\": \"\\\\u5b89\\\\u529b\\\\u5de5\\\\u696d\\\\u4e2d\\\\u5fc3\\\\u505c\\\\u8eca\\\\u5834 Honour Industrial Centre\", \"address\": \"\\\\u9999\\\\u6e2f\\\\u67f4\\\\u7063\\\\u65b0\\\\u696d\\\\u88576\\\\u865f\", \"distance\": 575.420904084764}, {\"name\": \"8\\\\u865f\\\\u5546\\\\u696d\\\\u5ee3\\\\u5834\\\\u505c\\\\u8eca\\\\u5834 8 Commercial Tower\", \"address\": \"\\\\u9999\\\\u6e2f\\\\u67f4\\\\u7063\\\\u65b0\\\\u696d\\\\u88578\\\\u865f\", \"distance\": 647.7525204006041}]'}]\n",
      "args {'current_location': {'latitude': 22.261515, 'longitude': 114.249452}}\n",
      "function_response [{\"name\": \"\\u5c0f\\u897f\\u7063\\u90a8\\u4e00\\u671f\\u505c\\u8eca\\u5834 Siu Sai Wan Estate Phase 1 (\\u5c0f\\u897f\\u7063\\u5ee3\\u5834 Siu Sai Wan Plaza)\", \"address\": \"\\u9999\\u6e2f\\u5c0f\\u897f\\u7063\\u5c0f\\u897f\\u7063\\u905310\\u865f\", \"distance\": 142.4542245544509}, {\"name\": \"\\u5c0f\\u897f\\u7063\\u90a8\\u4e09\\u671f\\u505c\\u8eca\\u5834 Siu Sai Wan Estate Phase 3\", \"address\": \"\\u9999\\u6e2f\\u5c0f\\u897f\\u7063\\u5c0f\\u897f\\u7063\\u905310\\u865f\", \"distance\": 142.4542245544509}, {\"name\": \"\\u85cd\\u7063\\u5ee3\\u5834\\u505c\\u8eca\\u5834 Island Resort Mall (\\u85cd\\u7063\\u534a\\u5cf6 Island Resort)\", \"address\": \"\\u9999\\u6e2f\\u67f4\\u7063\\u5c0f\\u897f\\u7063\\u905328\\u865f\", \"distance\": 555.6050739713276}, {\"name\": \"\\u5b89\\u529b\\u5de5\\u696d\\u4e2d\\u5fc3\\u505c\\u8eca\\u5834 Honour Industrial Centre\", \"address\": \"\\u9999\\u6e2f\\u67f4\\u7063\\u65b0\\u696d\\u88576\\u865f\", \"distance\": 575.420904084764}, {\"name\": \"8\\u865f\\u5546\\u696d\\u5ee3\\u5834\\u505c\\u8eca\\u5834 8 Commercial Tower\", \"address\": \"\\u9999\\u6e2f\\u67f4\\u7063\\u65b0\\u696d\\u88578\\u865f\", \"distance\": 647.7525204006041}]\n",
      "messages [{'role': 'user', 'content': 'Can you give me the addresses of the top 2 closest car park?'}, {'content': None, 'role': 'assistant', 'tool_calls': [{'id': 'call_7xbA81alDUGZA7bt6MSRX1Mp', 'function': {'arguments': '{\"current_location\": {\"latitude\": 22.261515, \"longitude\": 114.249452}}', 'name': 'get_nearest_car_parks'}, 'type': 'function'}, {'id': 'call_DWQHYdO4U8wk4jUwe4HS8pfE', 'function': {'arguments': '{\"current_location\": {\"latitude\": 22.261515, \"longitude\": 114.249452}}', 'name': 'get_nearest_car_parks'}, 'type': 'function'}, {'id': 'call_PYx4CMLE17gC1VKD7eemcKA0', 'function': {'arguments': '{\"current_location\": {\"latitude\": 22.261515, \"longitude\": 114.249452}}', 'name': 'get_nearest_car_parks'}, 'type': 'function'}]}, {'tool_call_id': 'call_7xbA81alDUGZA7bt6MSRX1Mp', 'role': 'tool', 'name': 'get_nearest_car_parks', 'content': '[{\"name\": \"\\\\u5c0f\\\\u897f\\\\u7063\\\\u90a8\\\\u4e00\\\\u671f\\\\u505c\\\\u8eca\\\\u5834 Siu Sai Wan Estate Phase 1 (\\\\u5c0f\\\\u897f\\\\u7063\\\\u5ee3\\\\u5834 Siu Sai Wan Plaza)\", \"address\": \"\\\\u9999\\\\u6e2f\\\\u5c0f\\\\u897f\\\\u7063\\\\u5c0f\\\\u897f\\\\u7063\\\\u905310\\\\u865f\", \"distance\": 142.4542245544509}, {\"name\": \"\\\\u5c0f\\\\u897f\\\\u7063\\\\u90a8\\\\u4e09\\\\u671f\\\\u505c\\\\u8eca\\\\u5834 Siu Sai Wan Estate Phase 3\", \"address\": \"\\\\u9999\\\\u6e2f\\\\u5c0f\\\\u897f\\\\u7063\\\\u5c0f\\\\u897f\\\\u7063\\\\u905310\\\\u865f\", \"distance\": 142.4542245544509}, {\"name\": \"\\\\u85cd\\\\u7063\\\\u5ee3\\\\u5834\\\\u505c\\\\u8eca\\\\u5834 Island Resort Mall (\\\\u85cd\\\\u7063\\\\u534a\\\\u5cf6 Island Resort)\", \"address\": \"\\\\u9999\\\\u6e2f\\\\u67f4\\\\u7063\\\\u5c0f\\\\u897f\\\\u7063\\\\u905328\\\\u865f\", \"distance\": 555.6050739713276}, {\"name\": \"\\\\u5b89\\\\u529b\\\\u5de5\\\\u696d\\\\u4e2d\\\\u5fc3\\\\u505c\\\\u8eca\\\\u5834 Honour Industrial Centre\", \"address\": \"\\\\u9999\\\\u6e2f\\\\u67f4\\\\u7063\\\\u65b0\\\\u696d\\\\u88576\\\\u865f\", \"distance\": 575.420904084764}, {\"name\": \"8\\\\u865f\\\\u5546\\\\u696d\\\\u5ee3\\\\u5834\\\\u505c\\\\u8eca\\\\u5834 8 Commercial Tower\", \"address\": \"\\\\u9999\\\\u6e2f\\\\u67f4\\\\u7063\\\\u65b0\\\\u696d\\\\u88578\\\\u865f\", \"distance\": 647.7525204006041}]'}, {'tool_call_id': 'call_DWQHYdO4U8wk4jUwe4HS8pfE', 'role': 'tool', 'name': 'get_nearest_car_parks', 'content': '[{\"name\": \"\\\\u5c0f\\\\u897f\\\\u7063\\\\u90a8\\\\u4e00\\\\u671f\\\\u505c\\\\u8eca\\\\u5834 Siu Sai Wan Estate Phase 1 (\\\\u5c0f\\\\u897f\\\\u7063\\\\u5ee3\\\\u5834 Siu Sai Wan Plaza)\", \"address\": \"\\\\u9999\\\\u6e2f\\\\u5c0f\\\\u897f\\\\u7063\\\\u5c0f\\\\u897f\\\\u7063\\\\u905310\\\\u865f\", \"distance\": 142.4542245544509}, {\"name\": \"\\\\u5c0f\\\\u897f\\\\u7063\\\\u90a8\\\\u4e09\\\\u671f\\\\u505c\\\\u8eca\\\\u5834 Siu Sai Wan Estate Phase 3\", \"address\": \"\\\\u9999\\\\u6e2f\\\\u5c0f\\\\u897f\\\\u7063\\\\u5c0f\\\\u897f\\\\u7063\\\\u905310\\\\u865f\", \"distance\": 142.4542245544509}, {\"name\": \"\\\\u85cd\\\\u7063\\\\u5ee3\\\\u5834\\\\u505c\\\\u8eca\\\\u5834 Island Resort Mall (\\\\u85cd\\\\u7063\\\\u534a\\\\u5cf6 Island Resort)\", \"address\": \"\\\\u9999\\\\u6e2f\\\\u67f4\\\\u7063\\\\u5c0f\\\\u897f\\\\u7063\\\\u905328\\\\u865f\", \"distance\": 555.6050739713276}, {\"name\": \"\\\\u5b89\\\\u529b\\\\u5de5\\\\u696d\\\\u4e2d\\\\u5fc3\\\\u505c\\\\u8eca\\\\u5834 Honour Industrial Centre\", \"address\": \"\\\\u9999\\\\u6e2f\\\\u67f4\\\\u7063\\\\u65b0\\\\u696d\\\\u88576\\\\u865f\", \"distance\": 575.420904084764}, {\"name\": \"8\\\\u865f\\\\u5546\\\\u696d\\\\u5ee3\\\\u5834\\\\u505c\\\\u8eca\\\\u5834 8 Commercial Tower\", \"address\": \"\\\\u9999\\\\u6e2f\\\\u67f4\\\\u7063\\\\u65b0\\\\u696d\\\\u88578\\\\u865f\", \"distance\": 647.7525204006041}]'}]\n",
      "args {'current_location': {'latitude': 22.261515, 'longitude': 114.249452}}\n",
      "function_response [{\"name\": \"\\u5c0f\\u897f\\u7063\\u90a8\\u4e00\\u671f\\u505c\\u8eca\\u5834 Siu Sai Wan Estate Phase 1 (\\u5c0f\\u897f\\u7063\\u5ee3\\u5834 Siu Sai Wan Plaza)\", \"address\": \"\\u9999\\u6e2f\\u5c0f\\u897f\\u7063\\u5c0f\\u897f\\u7063\\u905310\\u865f\", \"distance\": 142.4542245544509}, {\"name\": \"\\u5c0f\\u897f\\u7063\\u90a8\\u4e09\\u671f\\u505c\\u8eca\\u5834 Siu Sai Wan Estate Phase 3\", \"address\": \"\\u9999\\u6e2f\\u5c0f\\u897f\\u7063\\u5c0f\\u897f\\u7063\\u905310\\u865f\", \"distance\": 142.4542245544509}, {\"name\": \"\\u85cd\\u7063\\u5ee3\\u5834\\u505c\\u8eca\\u5834 Island Resort Mall (\\u85cd\\u7063\\u534a\\u5cf6 Island Resort)\", \"address\": \"\\u9999\\u6e2f\\u67f4\\u7063\\u5c0f\\u897f\\u7063\\u905328\\u865f\", \"distance\": 555.6050739713276}, {\"name\": \"\\u5b89\\u529b\\u5de5\\u696d\\u4e2d\\u5fc3\\u505c\\u8eca\\u5834 Honour Industrial Centre\", \"address\": \"\\u9999\\u6e2f\\u67f4\\u7063\\u65b0\\u696d\\u88576\\u865f\", \"distance\": 575.420904084764}, {\"name\": \"8\\u865f\\u5546\\u696d\\u5ee3\\u5834\\u505c\\u8eca\\u5834 8 Commercial Tower\", \"address\": \"\\u9999\\u6e2f\\u67f4\\u7063\\u65b0\\u696d\\u88578\\u865f\", \"distance\": 647.7525204006041}]\n",
      "messages [{'role': 'user', 'content': 'Can you give me the addresses of the top 2 closest car park?'}, {'content': None, 'role': 'assistant', 'tool_calls': [{'id': 'call_7xbA81alDUGZA7bt6MSRX1Mp', 'function': {'arguments': '{\"current_location\": {\"latitude\": 22.261515, \"longitude\": 114.249452}}', 'name': 'get_nearest_car_parks'}, 'type': 'function'}, {'id': 'call_DWQHYdO4U8wk4jUwe4HS8pfE', 'function': {'arguments': '{\"current_location\": {\"latitude\": 22.261515, \"longitude\": 114.249452}}', 'name': 'get_nearest_car_parks'}, 'type': 'function'}, {'id': 'call_PYx4CMLE17gC1VKD7eemcKA0', 'function': {'arguments': '{\"current_location\": {\"latitude\": 22.261515, \"longitude\": 114.249452}}', 'name': 'get_nearest_car_parks'}, 'type': 'function'}]}, {'tool_call_id': 'call_7xbA81alDUGZA7bt6MSRX1Mp', 'role': 'tool', 'name': 'get_nearest_car_parks', 'content': '[{\"name\": \"\\\\u5c0f\\\\u897f\\\\u7063\\\\u90a8\\\\u4e00\\\\u671f\\\\u505c\\\\u8eca\\\\u5834 Siu Sai Wan Estate Phase 1 (\\\\u5c0f\\\\u897f\\\\u7063\\\\u5ee3\\\\u5834 Siu Sai Wan Plaza)\", \"address\": \"\\\\u9999\\\\u6e2f\\\\u5c0f\\\\u897f\\\\u7063\\\\u5c0f\\\\u897f\\\\u7063\\\\u905310\\\\u865f\", \"distance\": 142.4542245544509}, {\"name\": \"\\\\u5c0f\\\\u897f\\\\u7063\\\\u90a8\\\\u4e09\\\\u671f\\\\u505c\\\\u8eca\\\\u5834 Siu Sai Wan Estate Phase 3\", \"address\": \"\\\\u9999\\\\u6e2f\\\\u5c0f\\\\u897f\\\\u7063\\\\u5c0f\\\\u897f\\\\u7063\\\\u905310\\\\u865f\", \"distance\": 142.4542245544509}, {\"name\": \"\\\\u85cd\\\\u7063\\\\u5ee3\\\\u5834\\\\u505c\\\\u8eca\\\\u5834 Island Resort Mall (\\\\u85cd\\\\u7063\\\\u534a\\\\u5cf6 Island Resort)\", \"address\": \"\\\\u9999\\\\u6e2f\\\\u67f4\\\\u7063\\\\u5c0f\\\\u897f\\\\u7063\\\\u905328\\\\u865f\", \"distance\": 555.6050739713276}, {\"name\": \"\\\\u5b89\\\\u529b\\\\u5de5\\\\u696d\\\\u4e2d\\\\u5fc3\\\\u505c\\\\u8eca\\\\u5834 Honour Industrial Centre\", \"address\": \"\\\\u9999\\\\u6e2f\\\\u67f4\\\\u7063\\\\u65b0\\\\u696d\\\\u88576\\\\u865f\", \"distance\": 575.420904084764}, {\"name\": \"8\\\\u865f\\\\u5546\\\\u696d\\\\u5ee3\\\\u5834\\\\u505c\\\\u8eca\\\\u5834 8 Commercial Tower\", \"address\": \"\\\\u9999\\\\u6e2f\\\\u67f4\\\\u7063\\\\u65b0\\\\u696d\\\\u88578\\\\u865f\", \"distance\": 647.7525204006041}]'}, {'tool_call_id': 'call_DWQHYdO4U8wk4jUwe4HS8pfE', 'role': 'tool', 'name': 'get_nearest_car_parks', 'content': '[{\"name\": \"\\\\u5c0f\\\\u897f\\\\u7063\\\\u90a8\\\\u4e00\\\\u671f\\\\u505c\\\\u8eca\\\\u5834 Siu Sai Wan Estate Phase 1 (\\\\u5c0f\\\\u897f\\\\u7063\\\\u5ee3\\\\u5834 Siu Sai Wan Plaza)\", \"address\": \"\\\\u9999\\\\u6e2f\\\\u5c0f\\\\u897f\\\\u7063\\\\u5c0f\\\\u897f\\\\u7063\\\\u905310\\\\u865f\", \"distance\": 142.4542245544509}, {\"name\": \"\\\\u5c0f\\\\u897f\\\\u7063\\\\u90a8\\\\u4e09\\\\u671f\\\\u505c\\\\u8eca\\\\u5834 Siu Sai Wan Estate Phase 3\", \"address\": \"\\\\u9999\\\\u6e2f\\\\u5c0f\\\\u897f\\\\u7063\\\\u5c0f\\\\u897f\\\\u7063\\\\u905310\\\\u865f\", \"distance\": 142.4542245544509}, {\"name\": \"\\\\u85cd\\\\u7063\\\\u5ee3\\\\u5834\\\\u505c\\\\u8eca\\\\u5834 Island Resort Mall (\\\\u85cd\\\\u7063\\\\u534a\\\\u5cf6 Island Resort)\", \"address\": \"\\\\u9999\\\\u6e2f\\\\u67f4\\\\u7063\\\\u5c0f\\\\u897f\\\\u7063\\\\u905328\\\\u865f\", \"distance\": 555.6050739713276}, {\"name\": \"\\\\u5b89\\\\u529b\\\\u5de5\\\\u696d\\\\u4e2d\\\\u5fc3\\\\u505c\\\\u8eca\\\\u5834 Honour Industrial Centre\", \"address\": \"\\\\u9999\\\\u6e2f\\\\u67f4\\\\u7063\\\\u65b0\\\\u696d\\\\u88576\\\\u865f\", \"distance\": 575.420904084764}, {\"name\": \"8\\\\u865f\\\\u5546\\\\u696d\\\\u5ee3\\\\u5834\\\\u505c\\\\u8eca\\\\u5834 8 Commercial Tower\", \"address\": \"\\\\u9999\\\\u6e2f\\\\u67f4\\\\u7063\\\\u65b0\\\\u696d\\\\u88578\\\\u865f\", \"distance\": 647.7525204006041}]'}, {'tool_call_id': 'call_PYx4CMLE17gC1VKD7eemcKA0', 'role': 'tool', 'name': 'get_nearest_car_parks', 'content': '[{\"name\": \"\\\\u5c0f\\\\u897f\\\\u7063\\\\u90a8\\\\u4e00\\\\u671f\\\\u505c\\\\u8eca\\\\u5834 Siu Sai Wan Estate Phase 1 (\\\\u5c0f\\\\u897f\\\\u7063\\\\u5ee3\\\\u5834 Siu Sai Wan Plaza)\", \"address\": \"\\\\u9999\\\\u6e2f\\\\u5c0f\\\\u897f\\\\u7063\\\\u5c0f\\\\u897f\\\\u7063\\\\u905310\\\\u865f\", \"distance\": 142.4542245544509}, {\"name\": \"\\\\u5c0f\\\\u897f\\\\u7063\\\\u90a8\\\\u4e09\\\\u671f\\\\u505c\\\\u8eca\\\\u5834 Siu Sai Wan Estate Phase 3\", \"address\": \"\\\\u9999\\\\u6e2f\\\\u5c0f\\\\u897f\\\\u7063\\\\u5c0f\\\\u897f\\\\u7063\\\\u905310\\\\u865f\", \"distance\": 142.4542245544509}, {\"name\": \"\\\\u85cd\\\\u7063\\\\u5ee3\\\\u5834\\\\u505c\\\\u8eca\\\\u5834 Island Resort Mall (\\\\u85cd\\\\u7063\\\\u534a\\\\u5cf6 Island Resort)\", \"address\": \"\\\\u9999\\\\u6e2f\\\\u67f4\\\\u7063\\\\u5c0f\\\\u897f\\\\u7063\\\\u905328\\\\u865f\", \"distance\": 555.6050739713276}, {\"name\": \"\\\\u5b89\\\\u529b\\\\u5de5\\\\u696d\\\\u4e2d\\\\u5fc3\\\\u505c\\\\u8eca\\\\u5834 Honour Industrial Centre\", \"address\": \"\\\\u9999\\\\u6e2f\\\\u67f4\\\\u7063\\\\u65b0\\\\u696d\\\\u88576\\\\u865f\", \"distance\": 575.420904084764}, {\"name\": \"8\\\\u865f\\\\u5546\\\\u696d\\\\u5ee3\\\\u5834\\\\u505c\\\\u8eca\\\\u5834 8 Commercial Tower\", \"address\": \"\\\\u9999\\\\u6e2f\\\\u67f4\\\\u7063\\\\u65b0\\\\u696d\\\\u88578\\\\u865f\", \"distance\": 647.7525204006041}]'}]\n",
      "The top 2 closest car parks to your current location are:\n",
      "\n",
      "1. Siu Sai Wan Estate Phase 1 (Siu Sai Wan Plaza)\n",
      "   Address: Siu Sai Wan, Hong Kong\n",
      "   Distance: 142.45 meters\n",
      "\n",
      "2. Siu Sai Wan Estate Phase 3\n",
      "   Address: Siu Sai Wan, Hong Kong\n",
      "   Distance: 142.45 meters\n"
     ]
    }
   ],
   "source": [
    "ask(\"Can you give me the addresses of the top 2 closest car park?\")"
   ],
   "metadata": {
    "collapsed": false,
    "ExecuteTime": {
     "end_time": "2023-11-10T10:35:44.992071Z",
     "start_time": "2023-11-10T10:35:40.742170Z"
    }
   },
   "id": "82465ef4fed2dc21"
  },
  {
   "cell_type": "code",
   "execution_count": 15,
   "outputs": [
    {
     "name": "stdout",
     "output_type": "stream",
     "text": [
      "gpt-4-1106-preview {'role': 'user', 'content': \"I don't like these 2, can you give me another 2?\"}\n",
      "args {'current_location': {'latitude': 22.261515, 'longitude': 114.249452}}\n",
      "function_response [{\"name\": \"\\u5c0f\\u897f\\u7063\\u90a8\\u4e00\\u671f\\u505c\\u8eca\\u5834 Siu Sai Wan Estate Phase 1 (\\u5c0f\\u897f\\u7063\\u5ee3\\u5834 Siu Sai Wan Plaza)\", \"address\": \"\\u9999\\u6e2f\\u5c0f\\u897f\\u7063\\u5c0f\\u897f\\u7063\\u905310\\u865f\", \"distance\": 142.4542245544509}, {\"name\": \"\\u5c0f\\u897f\\u7063\\u90a8\\u4e09\\u671f\\u505c\\u8eca\\u5834 Siu Sai Wan Estate Phase 3\", \"address\": \"\\u9999\\u6e2f\\u5c0f\\u897f\\u7063\\u5c0f\\u897f\\u7063\\u905310\\u865f\", \"distance\": 142.4542245544509}, {\"name\": \"\\u85cd\\u7063\\u5ee3\\u5834\\u505c\\u8eca\\u5834 Island Resort Mall (\\u85cd\\u7063\\u534a\\u5cf6 Island Resort)\", \"address\": \"\\u9999\\u6e2f\\u67f4\\u7063\\u5c0f\\u897f\\u7063\\u905328\\u865f\", \"distance\": 555.6050739713276}, {\"name\": \"\\u5b89\\u529b\\u5de5\\u696d\\u4e2d\\u5fc3\\u505c\\u8eca\\u5834 Honour Industrial Centre\", \"address\": \"\\u9999\\u6e2f\\u67f4\\u7063\\u65b0\\u696d\\u88576\\u865f\", \"distance\": 575.420904084764}, {\"name\": \"8\\u865f\\u5546\\u696d\\u5ee3\\u5834\\u505c\\u8eca\\u5834 8 Commercial Tower\", \"address\": \"\\u9999\\u6e2f\\u67f4\\u7063\\u65b0\\u696d\\u88578\\u865f\", \"distance\": 647.7525204006041}]\n",
      "messages [{'role': 'user', 'content': 'Can you give me the addresses of the top 2 closest car park?'}, {'content': None, 'role': 'assistant', 'tool_calls': [{'id': 'call_7xbA81alDUGZA7bt6MSRX1Mp', 'function': {'arguments': '{\"current_location\": {\"latitude\": 22.261515, \"longitude\": 114.249452}}', 'name': 'get_nearest_car_parks'}, 'type': 'function'}, {'id': 'call_DWQHYdO4U8wk4jUwe4HS8pfE', 'function': {'arguments': '{\"current_location\": {\"latitude\": 22.261515, \"longitude\": 114.249452}}', 'name': 'get_nearest_car_parks'}, 'type': 'function'}, {'id': 'call_PYx4CMLE17gC1VKD7eemcKA0', 'function': {'arguments': '{\"current_location\": {\"latitude\": 22.261515, \"longitude\": 114.249452}}', 'name': 'get_nearest_car_parks'}, 'type': 'function'}]}, {'tool_call_id': 'call_7xbA81alDUGZA7bt6MSRX1Mp', 'role': 'tool', 'name': 'get_nearest_car_parks', 'content': '[{\"name\": \"\\\\u5c0f\\\\u897f\\\\u7063\\\\u90a8\\\\u4e00\\\\u671f\\\\u505c\\\\u8eca\\\\u5834 Siu Sai Wan Estate Phase 1 (\\\\u5c0f\\\\u897f\\\\u7063\\\\u5ee3\\\\u5834 Siu Sai Wan Plaza)\", \"address\": \"\\\\u9999\\\\u6e2f\\\\u5c0f\\\\u897f\\\\u7063\\\\u5c0f\\\\u897f\\\\u7063\\\\u905310\\\\u865f\", \"distance\": 142.4542245544509}, {\"name\": \"\\\\u5c0f\\\\u897f\\\\u7063\\\\u90a8\\\\u4e09\\\\u671f\\\\u505c\\\\u8eca\\\\u5834 Siu Sai Wan Estate Phase 3\", \"address\": \"\\\\u9999\\\\u6e2f\\\\u5c0f\\\\u897f\\\\u7063\\\\u5c0f\\\\u897f\\\\u7063\\\\u905310\\\\u865f\", \"distance\": 142.4542245544509}, {\"name\": \"\\\\u85cd\\\\u7063\\\\u5ee3\\\\u5834\\\\u505c\\\\u8eca\\\\u5834 Island Resort Mall (\\\\u85cd\\\\u7063\\\\u534a\\\\u5cf6 Island Resort)\", \"address\": \"\\\\u9999\\\\u6e2f\\\\u67f4\\\\u7063\\\\u5c0f\\\\u897f\\\\u7063\\\\u905328\\\\u865f\", \"distance\": 555.6050739713276}, {\"name\": \"\\\\u5b89\\\\u529b\\\\u5de5\\\\u696d\\\\u4e2d\\\\u5fc3\\\\u505c\\\\u8eca\\\\u5834 Honour Industrial Centre\", \"address\": \"\\\\u9999\\\\u6e2f\\\\u67f4\\\\u7063\\\\u65b0\\\\u696d\\\\u88576\\\\u865f\", \"distance\": 575.420904084764}, {\"name\": \"8\\\\u865f\\\\u5546\\\\u696d\\\\u5ee3\\\\u5834\\\\u505c\\\\u8eca\\\\u5834 8 Commercial Tower\", \"address\": \"\\\\u9999\\\\u6e2f\\\\u67f4\\\\u7063\\\\u65b0\\\\u696d\\\\u88578\\\\u865f\", \"distance\": 647.7525204006041}]'}, {'tool_call_id': 'call_DWQHYdO4U8wk4jUwe4HS8pfE', 'role': 'tool', 'name': 'get_nearest_car_parks', 'content': '[{\"name\": \"\\\\u5c0f\\\\u897f\\\\u7063\\\\u90a8\\\\u4e00\\\\u671f\\\\u505c\\\\u8eca\\\\u5834 Siu Sai Wan Estate Phase 1 (\\\\u5c0f\\\\u897f\\\\u7063\\\\u5ee3\\\\u5834 Siu Sai Wan Plaza)\", \"address\": \"\\\\u9999\\\\u6e2f\\\\u5c0f\\\\u897f\\\\u7063\\\\u5c0f\\\\u897f\\\\u7063\\\\u905310\\\\u865f\", \"distance\": 142.4542245544509}, {\"name\": \"\\\\u5c0f\\\\u897f\\\\u7063\\\\u90a8\\\\u4e09\\\\u671f\\\\u505c\\\\u8eca\\\\u5834 Siu Sai Wan Estate Phase 3\", \"address\": \"\\\\u9999\\\\u6e2f\\\\u5c0f\\\\u897f\\\\u7063\\\\u5c0f\\\\u897f\\\\u7063\\\\u905310\\\\u865f\", \"distance\": 142.4542245544509}, {\"name\": \"\\\\u85cd\\\\u7063\\\\u5ee3\\\\u5834\\\\u505c\\\\u8eca\\\\u5834 Island Resort Mall (\\\\u85cd\\\\u7063\\\\u534a\\\\u5cf6 Island Resort)\", \"address\": \"\\\\u9999\\\\u6e2f\\\\u67f4\\\\u7063\\\\u5c0f\\\\u897f\\\\u7063\\\\u905328\\\\u865f\", \"distance\": 555.6050739713276}, {\"name\": \"\\\\u5b89\\\\u529b\\\\u5de5\\\\u696d\\\\u4e2d\\\\u5fc3\\\\u505c\\\\u8eca\\\\u5834 Honour Industrial Centre\", \"address\": \"\\\\u9999\\\\u6e2f\\\\u67f4\\\\u7063\\\\u65b0\\\\u696d\\\\u88576\\\\u865f\", \"distance\": 575.420904084764}, {\"name\": \"8\\\\u865f\\\\u5546\\\\u696d\\\\u5ee3\\\\u5834\\\\u505c\\\\u8eca\\\\u5834 8 Commercial Tower\", \"address\": \"\\\\u9999\\\\u6e2f\\\\u67f4\\\\u7063\\\\u65b0\\\\u696d\\\\u88578\\\\u865f\", \"distance\": 647.7525204006041}]'}, {'tool_call_id': 'call_PYx4CMLE17gC1VKD7eemcKA0', 'role': 'tool', 'name': 'get_nearest_car_parks', 'content': '[{\"name\": \"\\\\u5c0f\\\\u897f\\\\u7063\\\\u90a8\\\\u4e00\\\\u671f\\\\u505c\\\\u8eca\\\\u5834 Siu Sai Wan Estate Phase 1 (\\\\u5c0f\\\\u897f\\\\u7063\\\\u5ee3\\\\u5834 Siu Sai Wan Plaza)\", \"address\": \"\\\\u9999\\\\u6e2f\\\\u5c0f\\\\u897f\\\\u7063\\\\u5c0f\\\\u897f\\\\u7063\\\\u905310\\\\u865f\", \"distance\": 142.4542245544509}, {\"name\": \"\\\\u5c0f\\\\u897f\\\\u7063\\\\u90a8\\\\u4e09\\\\u671f\\\\u505c\\\\u8eca\\\\u5834 Siu Sai Wan Estate Phase 3\", \"address\": \"\\\\u9999\\\\u6e2f\\\\u5c0f\\\\u897f\\\\u7063\\\\u5c0f\\\\u897f\\\\u7063\\\\u905310\\\\u865f\", \"distance\": 142.4542245544509}, {\"name\": \"\\\\u85cd\\\\u7063\\\\u5ee3\\\\u5834\\\\u505c\\\\u8eca\\\\u5834 Island Resort Mall (\\\\u85cd\\\\u7063\\\\u534a\\\\u5cf6 Island Resort)\", \"address\": \"\\\\u9999\\\\u6e2f\\\\u67f4\\\\u7063\\\\u5c0f\\\\u897f\\\\u7063\\\\u905328\\\\u865f\", \"distance\": 555.6050739713276}, {\"name\": \"\\\\u5b89\\\\u529b\\\\u5de5\\\\u696d\\\\u4e2d\\\\u5fc3\\\\u505c\\\\u8eca\\\\u5834 Honour Industrial Centre\", \"address\": \"\\\\u9999\\\\u6e2f\\\\u67f4\\\\u7063\\\\u65b0\\\\u696d\\\\u88576\\\\u865f\", \"distance\": 575.420904084764}, {\"name\": \"8\\\\u865f\\\\u5546\\\\u696d\\\\u5ee3\\\\u5834\\\\u505c\\\\u8eca\\\\u5834 8 Commercial Tower\", \"address\": \"\\\\u9999\\\\u6e2f\\\\u67f4\\\\u7063\\\\u65b0\\\\u696d\\\\u88578\\\\u865f\", \"distance\": 647.7525204006041}]'}, {'role': 'assistant', 'content': 'The top 2 closest car parks to your current location are:\\n\\n1. Siu Sai Wan Estate Phase 1 (Siu Sai Wan Plaza)\\n   Address: Siu Sai Wan, Hong Kong\\n   Distance: 142.45 meters\\n\\n2. Siu Sai Wan Estate Phase 3\\n   Address: Siu Sai Wan, Hong Kong\\n   Distance: 142.45 meters'}, {'role': 'user', 'content': \"I don't like these 2, can you give me another 2?\"}, {'content': None, 'role': 'assistant', 'tool_calls': [{'id': 'call_pUWkMFYKmpRQuneqGaTso4ZK', 'function': {'arguments': '{\"current_location\":{\"latitude\":22.261515,\"longitude\":114.249452}}', 'name': 'get_nearest_car_parks'}, 'type': 'function'}]}, {'tool_call_id': 'call_pUWkMFYKmpRQuneqGaTso4ZK', 'role': 'tool', 'name': 'get_nearest_car_parks', 'content': '[{\"name\": \"\\\\u5c0f\\\\u897f\\\\u7063\\\\u90a8\\\\u4e00\\\\u671f\\\\u505c\\\\u8eca\\\\u5834 Siu Sai Wan Estate Phase 1 (\\\\u5c0f\\\\u897f\\\\u7063\\\\u5ee3\\\\u5834 Siu Sai Wan Plaza)\", \"address\": \"\\\\u9999\\\\u6e2f\\\\u5c0f\\\\u897f\\\\u7063\\\\u5c0f\\\\u897f\\\\u7063\\\\u905310\\\\u865f\", \"distance\": 142.4542245544509}, {\"name\": \"\\\\u5c0f\\\\u897f\\\\u7063\\\\u90a8\\\\u4e09\\\\u671f\\\\u505c\\\\u8eca\\\\u5834 Siu Sai Wan Estate Phase 3\", \"address\": \"\\\\u9999\\\\u6e2f\\\\u5c0f\\\\u897f\\\\u7063\\\\u5c0f\\\\u897f\\\\u7063\\\\u905310\\\\u865f\", \"distance\": 142.4542245544509}, {\"name\": \"\\\\u85cd\\\\u7063\\\\u5ee3\\\\u5834\\\\u505c\\\\u8eca\\\\u5834 Island Resort Mall (\\\\u85cd\\\\u7063\\\\u534a\\\\u5cf6 Island Resort)\", \"address\": \"\\\\u9999\\\\u6e2f\\\\u67f4\\\\u7063\\\\u5c0f\\\\u897f\\\\u7063\\\\u905328\\\\u865f\", \"distance\": 555.6050739713276}, {\"name\": \"\\\\u5b89\\\\u529b\\\\u5de5\\\\u696d\\\\u4e2d\\\\u5fc3\\\\u505c\\\\u8eca\\\\u5834 Honour Industrial Centre\", \"address\": \"\\\\u9999\\\\u6e2f\\\\u67f4\\\\u7063\\\\u65b0\\\\u696d\\\\u88576\\\\u865f\", \"distance\": 575.420904084764}, {\"name\": \"8\\\\u865f\\\\u5546\\\\u696d\\\\u5ee3\\\\u5834\\\\u505c\\\\u8eca\\\\u5834 8 Commercial Tower\", \"address\": \"\\\\u9999\\\\u6e2f\\\\u67f4\\\\u7063\\\\u65b0\\\\u696d\\\\u88578\\\\u865f\", \"distance\": 647.7525204006041}]'}]\n",
      "The next 2 closest car parks to your current location are:\n",
      "\n",
      "1. Island Resort Mall\n",
      "   Address: Island Resort, Hong Kong\n",
      "   Distance: 555.61 meters\n",
      "\n",
      "2. Honour Industrial Centre\n",
      "   Address: Hong Kong\n",
      "   Distance: 575.42 meters\n"
     ]
    }
   ],
   "source": [
    "ask(\"I don't like these 2, can you give me another 2?\")"
   ],
   "metadata": {
    "collapsed": false,
    "ExecuteTime": {
     "end_time": "2023-11-10T10:37:10.400589Z",
     "start_time": "2023-11-10T10:37:07.710516Z"
    }
   },
   "id": "9cfb02133785b959"
  },
  {
   "cell_type": "code",
   "execution_count": 5,
   "outputs": [],
   "source": [
    "playsound(\"./speech.mp3\")"
   ],
   "metadata": {
    "collapsed": false,
    "ExecuteTime": {
     "end_time": "2023-11-11T12:22:24.733088Z",
     "start_time": "2023-11-11T08:47:55.226525Z"
    }
   },
   "id": "aaf17496ab8f317c"
  },
  {
   "cell_type": "code",
   "execution_count": null,
   "outputs": [],
   "source": [],
   "metadata": {
    "collapsed": false
   },
   "id": "92e7fb661808c30b"
  }
 ],
 "metadata": {
  "kernelspec": {
   "display_name": "Python 3",
   "language": "python",
   "name": "python3"
  },
  "language_info": {
   "codemirror_mode": {
    "name": "ipython",
    "version": 2
   },
   "file_extension": ".py",
   "mimetype": "text/x-python",
   "name": "python",
   "nbconvert_exporter": "python",
   "pygments_lexer": "ipython2",
   "version": "2.7.6"
  }
 },
 "nbformat": 4,
 "nbformat_minor": 5
}
